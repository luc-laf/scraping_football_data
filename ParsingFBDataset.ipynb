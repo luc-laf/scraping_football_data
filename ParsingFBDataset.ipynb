{
 "cells": [
  {
   "cell_type": "code",
   "execution_count": 1,
   "metadata": {
    "collapsed": false
   },
   "outputs": [],
   "source": [
    "from bs4 import BeautifulSoup\n",
    "import urllib\n",
    "import sys  \n",
    "from PyQt4.QtGui import *  \n",
    "from PyQt4.QtCore import *  \n",
    "from PyQt4.QtWebKit import *  \n",
    "from lxml import html \n",
    "import dryscrape"
   ]
  },
  {
   "cell_type": "code",
   "execution_count": null,
   "metadata": {
    "collapsed": true
   },
   "outputs": [],
   "source": [
    "session = dryscrape.Session()\n",
    "session.visit(my_url)\n",
    "response = session.body()\n",
    "soup = BeautifulSoup(response)"
   ]
  },
  {
   "cell_type": "code",
   "execution_count": 2,
   "metadata": {
    "collapsed": false
   },
   "outputs": [],
   "source": [
    "#class for rendering js pages for use with BS\n",
    "class Render(QWebPage):  \n",
    "    def __init__(self, url):  \n",
    "        self.app = QApplication(sys.argv)  \n",
    "        QWebPage.__init__(self)  \n",
    "        self.loadFinished.connect(self._loadFinished)  \n",
    "        self.mainFrame().load(QUrl(url))  \n",
    "        self.app.exec_()  \n",
    "  \n",
    "    def _loadFinished(self, result):  \n",
    "        self.frame = self.mainFrame()  \n",
    "        self.app.quit() "
   ]
  },
  {
   "cell_type": "code",
   "execution_count": 2,
   "metadata": {
    "collapsed": false,
    "scrolled": true
   },
   "outputs": [],
   "source": [
    "#list of all mathces in list links\n",
    "def season_links(year):\n",
    "    resultsPage = urllib.urlopen(\"http://www.fourfourtwo.com/statszone/results/8-\" + year)\n",
    "    resultsPageSoup = BeautifulSoup(resultsPage)\n",
    "    scores = resultsPageSoup.findAll('td', {'class': 'score'})\n",
    "    homeTeams = resultsPageSoup.findAll('td', {'class': 'home-team'})\n",
    "    awayTeams = resultsPageSoup.findAll('td', {'class': 'away-team'})\n",
    "    #matches = [homeTeams[i].contents[0].strip()+\"_\"+awayTeams[i].contents[0].strip() for i in range(0,len(homeTeams))]\n",
    "    gamesStatsLinks = ['http://www.fourfourtwo.com' + \n",
    "                       l.a['href'] for l in resultsPageSoup.findAll('td', {'class': 'link-to-match'})]\n",
    "\n",
    "    season = {}\n",
    "    \n",
    "    for i in range(0,len(homeTeams)):\n",
    "        season[homeTeams[i].contents[0].strip() + \"_\" + awayTeams[i].contents[0].strip()] = {\n",
    "            \"homeTeam\":homeTeams[i].contents[0],\n",
    "            \"awayTeam\":awayTeams[i].contents[0],\n",
    "            \"homeGoals\":int(scores[i].contents[0].split(\"-\")[0]),\n",
    "            \"awayGoals\":int(scores[i].contents[0].split(\"-\")[1]),\n",
    "            \"link\":gamesStatsLinks[i]\n",
    "        }\n",
    "    \n",
    "    return(season)"
   ]
  },
  {
   "cell_type": "code",
   "execution_count": 9,
   "metadata": {
    "collapsed": true
   },
   "outputs": [],
   "source": [
    "scores = resultsPageSoup.findAll('td', {'class': 'score'})"
   ]
  },
  {
   "cell_type": "code",
   "execution_count": 10,
   "metadata": {
    "collapsed": false
   },
   "outputs": [
    {
     "data": {
      "text/plain": [
       "[]"
      ]
     },
     "execution_count": 10,
     "metadata": {},
     "output_type": "execute_result"
    }
   ],
   "source": [
    "scores"
   ]
  },
  {
   "cell_type": "code",
   "execution_count": 5,
   "metadata": {
    "collapsed": false
   },
   "outputs": [],
   "source": [
    "resultsPage = urllib.urlopen(\"http://www.fourfourtwo.com/statszone/results/8-\" + \"2015\")"
   ]
  },
  {
   "cell_type": "code",
   "execution_count": 8,
   "metadata": {
    "collapsed": false
   },
   "outputs": [
    {
     "data": {
      "text/plain": [
       "<!DOCTYPE html>\\n<!--[if IEMobile 7]><html class=\"iem7\"  lang=\"en\" dir=\"ltr\"><![endif]--><!--[if lte IE 6]><html class=\"lt-ie9 lt-ie8 lt-ie7\"  lang=\"en\" dir=\"ltr\"><![endif]--><!--[if (IE 7)&(!IEMobile)]><html class=\"lt-ie9 lt-ie8\"  lang=\"en\" dir=\"ltr\"><![endif]--><!--[if IE 8]><html class=\"lt-ie9\"  lang=\"en\" dir=\"ltr\"><![endif]--><!--[if (gte IE 9)|(gt IEMobile 7)]><!--><html dir=\"ltr\" lang=\"en\"><!--<![endif]-->\\n<head>\\n<meta charset=\"unicode-escape\"/>\\n<meta content=\"on\" http-equiv=\"x-dns-prefetch-control\"/>\\n<link href=\"//images.cdn.fourfourtwo.com\" rel=\"dns-prefetch\"/>\\n<link href=\"//css.cdn.fourfourtwo.com\" rel=\"dns-prefetch\"/>\\n<link href=\"//cdn.fourfourtwo.com\" rel=\"dns-prefetch\"/>\\n<!--[if IE 9]>\\n<link rel=\"prefetch\" href=\"//images.cdn.fourfourtwo.com\" />\\n<link rel=\"prefetch\" href=\"//css.cdn.fourfourtwo.com\" />\\n<link rel=\"prefetch\" href=\"//cdn.fourfourtwo.com\" />\\n<![endif]-->\\n<link href=\"http://cdn.fourfourtwo.com/sites/fourfourtwo.com/themes/fourfourtwo/favicon.ico\" rel=\"shortcut icon\" type=\"image/vnd.microsoft.icon\"/>\\n<title>Site under maintenance | FourFourTwo</title>\\n<meta content=\"width\" name=\"MobileOptimized\"/>\\n<meta content=\"true\" name=\"HandheldFriendly\"/>\\n<meta content=\"width=device-width\" name=\"viewport\"/>\\n<!--[if IEMobile]><meta http-equiv=\"cleartype\" content=\"on\"><![endif]-->\\n<link href=\"//css.cdn.fourfourtwo.com/sites/fourfourtwo.com/files/advagg_css/css__YZMmyCjxADNsxWJVyzxskiYBiPsGboww8DDJoAv1iVA__PqGVjSeXe3e-YM4xspxCavDlyydtEB28TRpZPTEwV5I__m84QEyw0q86JsGQEpO36tnqSc4FesrhDdOuaT1BqRjc.css\" media=\"all\" rel=\"stylesheet\" type=\"text/css\"/>\\n<link href=\"//css.cdn.fourfourtwo.com/sites/fourfourtwo.com/files/advagg_css/css__BF8W_blKQtPnbjQTY9x1jeMYAPMgw_DaHD_Jx-1OrhE__VgwyfQt-yRZrTCQFX_pOadE6PR9mZKmik_FgvfGFGJc__m84QEyw0q86JsGQEpO36tnqSc4FesrhDdOuaT1BqRjc.css\" media=\"screen\" rel=\"stylesheet\" type=\"text/css\"/>\\n<link href=\"//css.cdn.fourfourtwo.com/sites/fourfourtwo.com/files/advagg_css/css__C2_FlQZ9B-Bb9GB36l5uBV9-qH6gFXVK-IVApufAwao__t1B-SjX8arw4YVMoj2hjwGUgnFypTBe7ca5EWDQsd08__m84QEyw0q86JsGQEpO36tnqSc4FesrhDdOuaT1BqRjc.css\" media=\"all\" rel=\"stylesheet\" type=\"text/css\"/>\\n<link href=\"//css.cdn.fourfourtwo.com/sites/fourfourtwo.com/files/advagg_css/css__11jxgFLSNelcjKVAaKbArJdT4ahpRb3wYAwi8nLSz3U__ljoyPhG9vywYZhFrW_R5kYrf-9s8jgAdQxMYdzINAQ0__m84QEyw0q86JsGQEpO36tnqSc4FesrhDdOuaT1BqRjc.css\" media=\"all\" rel=\"stylesheet\" type=\"text/css\"/>\\n<link href=\"//css.cdn.fourfourtwo.com/sites/fourfourtwo.com/files/advagg_css/css__Z1KKxlAc2AfWui7_yW-oT_WOAEu388nShAV9JD_47WQ__LqGc6Dmy1pBYk5XU8iDjJ9FvYNrdlmJn6V8n4XK84M8__m84QEyw0q86JsGQEpO36tnqSc4FesrhDdOuaT1BqRjc.css\" media=\"all\" rel=\"stylesheet\" type=\"text/css\"/>\\n<script src=\"http://cdn.fourfourtwo.com/sites/fourfourtwo.com/files/js/js_LcFRnnSHVah-Aw_WQ8aVLXhp3HPJvrOe4h6YEXA5BT8.js\"></script>\\n<script src=\"http://cdn.fourfourtwo.com/sites/fourfourtwo.com/files/js/js_I8GR3rsp_EMzGs89utpB7gLpNdqMd-40OmjBbCWUc34.js\"></script>\\n<script src=\"http://cdn.fourfourtwo.com/sites/fourfourtwo.com/files/js/js_ptR1ZjZnexk8gj2Q9mIgM2M_6ztR4ckK-i_6gzFmlNM.js\"></script>\\n<script src=\"https://sadmin.brightcove.com/js/BrightcoveExperiences.js\"></script>\\n<script src=\"http://cdn.fourfourtwo.com/sites/fourfourtwo.com/files/js/js_rtdJViP3R4eIbN0E0kGE2hawaFR3-Za0vAh3x9uv_kE.js\"></script>\\n<script src=\"https://tags.tiqcdn.com/utag//haymarket/fourfourtwo/prod/utag.sync.js\"></script>\\n<script src=\"http://cdn.fourfourtwo.com/sites/fourfourtwo.com/files/js/js_lpyXHZI_MnpvOBdaLdpk72_EVVDpjkzzJM4nEqt9zG0.js\"></script>\\n<script>jQuery.extend(Drupal.settings, {\"basePath\":\"\\\\/\",\"pathPrefix\":\"\",\"ajaxPageState\":{\"theme\":\"fourfourtwo\",\"theme_token\":\"9_y57fTC83PKF1qFzF9zuzZUsitX7Z3uBDlidobdZw0\",\"css\":{\"modules\\\\/system\\\\/system.base.css\":1,\"modules\\\\/system\\\\/system.menus.css\":1,\"modules\\\\/system\\\\/system.messages.css\":1,\"modules\\\\/system\\\\/system.theme.css\":1,\"sites\\\\/all\\\\/modules\\\\/contrib\\\\/picture\\\\/lazysizes\\\\/plugins\\\\/aspectratio\\\\/ls.aspectratio.css\":1,\"sites\\\\/all\\\\/modules\\\\/contrib\\\\/date\\\\/date_api\\\\/date.css\":1,\"sites\\\\/all\\\\/modules\\\\/contrib\\\\/date\\\\/date_popup\\\\/themes\\\\/datepicker.1.7.css\":1,\"modules\\\\/field\\\\/theme\\\\/field.css\":1,\"sites\\\\/all\\\\/modules\\\\/contrib\\\\/fitvids\\\\/fitvids.css\":1,\"sites\\\\/all\\\\/modules\\\\/custom\\\\/lazyloadxt\\\\/css\\\\/animate.min.css\":1,\"sites\\\\/all\\\\/modules\\\\/contrib\\\\/mollom\\\\/mollom.css\":1,\"modules\\\\/node\\\\/node.css\":1,\"sites\\\\/all\\\\/modules\\\\/contrib\\\\/picture\\\\/picture_wysiwyg.css\":1,\"modules\\\\/search\\\\/search.css\":1,\"modules\\\\/user\\\\/user.css\":1,\"sites\\\\/all\\\\/modules\\\\/contrib\\\\/youtube\\\\/css\\\\/youtube.css\":1,\"sites\\\\/all\\\\/modules\\\\/contrib\\\\/views\\\\/css\\\\/views.css\":1,\"sites\\\\/all\\\\/modules\\\\/contrib\\\\/ctools\\\\/css\\\\/ctools.css\":1,\"sites\\\\/all\\\\/libraries\\\\/fancybox\\\\/source\\\\/jquery.fancybox.css\":1,\"sites\\\\/fourfourtwo.com\\\\/modules\\\\/features\\\\/fft_promo_block\\\\/css\\\\/fft_promo_block.css\":1,\"sites\\\\/fourfourtwo.com\\\\/modules\\\\/features\\\\/fft_promo_sitewide\\\\/css\\\\/fft_promo_sitewide.css\":1,\"sites\\\\/all\\\\/modules\\\\/custom\\\\/hcm_external_blocks\\\\/css\\\\/external-blocks.css\":1,\"public:\\\\/\\\\/css\\\\/menu_icons.css\":1,\"sites\\\\/all\\\\/modules\\\\/contrib\\\\/stickynav\\\\/css\\\\/stickynav.css\":1,\"sites\\\\/fourfourtwo.com\\\\/themes\\\\/fourfourtwo\\\\/system.menus.css\":1,\"sites\\\\/fourfourtwo.com\\\\/themes\\\\/fourfourtwo\\\\/css\\\\/normalize.css\":1,\"sites\\\\/fourfourtwo.com\\\\/themes\\\\/fourfourtwo\\\\/css\\\\/wireframes.css\":1,\"sites\\\\/fourfourtwo.com\\\\/themes\\\\/fourfourtwo\\\\/css\\\\/layouts\\\\/responsive-sidebars.css\":1,\"sites\\\\/fourfourtwo.com\\\\/themes\\\\/fourfourtwo\\\\/css\\\\/page-backgrounds.css\":1,\"sites\\\\/fourfourtwo.com\\\\/themes\\\\/fourfourtwo\\\\/css\\\\/tabs.css\":1,\"sites\\\\/fourfourtwo.com\\\\/themes\\\\/fourfourtwo\\\\/css\\\\/pages.css\":1,\"sites\\\\/fourfourtwo.com\\\\/themes\\\\/fourfourtwo\\\\/css\\\\/blocks.css\":1,\"sites\\\\/fourfourtwo.com\\\\/themes\\\\/fourfourtwo\\\\/css\\\\/navigation.css\":1,\"sites\\\\/fourfourtwo.com\\\\/themes\\\\/fourfourtwo\\\\/css\\\\/views-styles.css\":1,\"sites\\\\/fourfourtwo.com\\\\/themes\\\\/fourfourtwo\\\\/css\\\\/nodes.css\":1,\"sites\\\\/fourfourtwo.com\\\\/themes\\\\/fourfourtwo\\\\/css\\\\/comments.css\":1,\"sites\\\\/fourfourtwo.com\\\\/themes\\\\/fourfourtwo\\\\/css\\\\/forms.css\":1,\"sites\\\\/fourfourtwo.com\\\\/themes\\\\/fourfourtwo\\\\/css\\\\/fields.css\":1,\"sites\\\\/fourfourtwo.com\\\\/themes\\\\/fourfourtwo\\\\/css\\\\/print.css\":1,\"sites\\\\/fourfourtwo.com\\\\/themes\\\\/fourfourtwo\\\\/css\\\\/hat.css\":1,\"sites\\\\/fourfourtwo.com\\\\/themes\\\\/fourfourtwo\\\\/css\\\\/search.css\":1,\"sites\\\\/fourfourtwo.com\\\\/themes\\\\/fourfourtwo\\\\/css\\\\/footer.css\":1,\"sites\\\\/fourfourtwo.com\\\\/themes\\\\/fourfourtwo\\\\/css\\\\/statzone-compilation.css\":1,\"sites\\\\/fourfourtwo.com\\\\/themes\\\\/fourfourtwo\\\\/css\\\\/carousel.css\":1},\"js\":{\"sites\\\\/all\\\\/modules\\\\/contrib\\\\/jquery_update\\\\/replace\\\\/jquery\\\\/1.7\\\\/jquery.min.js\":1,\"misc\\\\/jquery.once.js\":1,\"misc\\\\/drupal.js\":1,\"sites\\\\/all\\\\/modules\\\\/contrib\\\\/picture\\\\/lazysizes\\\\/lazysizes.min.js\":1,\"sites\\\\/all\\\\/modules\\\\/contrib\\\\/picture\\\\/lazysizes\\\\/plugins\\\\/aspectratio\\\\/ls.aspectratio.min.js\":1,\"sites\\\\/all\\\\/modules\\\\/contrib\\\\/fitvids\\\\/fitvids.js\":1,\"http:\\\\/\\\\/admin.brightcove.com\\\\/js\\\\/BrightcoveExperiences.js\":1,\"sites\\\\/all\\\\/modules\\\\/contrib\\\\/fancybox\\\\/fancybox.js\":1,\"sites\\\\/all\\\\/libraries\\\\/fancybox\\\\/source\\\\/jquery.fancybox.pack.js\":1,\"sites\\\\/all\\\\/libraries\\\\/fancybox\\\\/lib\\\\/jquery.mousewheel-3.0.6.pack.js\":1,\"sites\\\\/fourfourtwo.com\\\\/modules\\\\/features\\\\/fft_promo_block\\\\/js\\\\/fft_promo_block.js\":1,\"sites\\\\/fourfourtwo.com\\\\/modules\\\\/features\\\\/fft_promo_sitewide\\\\/js\\\\/fft_promo_sitewide.js\":1,\"sites\\\\/all\\\\/modules\\\\/custom\\\\/hcm_external_blocks\\\\/js\\\\/skin.js\":1,\"sites\\\\/all\\\\/modules\\\\/custom\\\\/hcm_external_blocks\\\\/js\\\\/stickify_me.js\":1,\"sites\\\\/all\\\\/modules\\\\/custom\\\\/hcm_external_blocks\\\\/js\\\\/external-block.js\":1,\"sites\\\\/all\\\\/modules\\\\/custom\\\\/lazyloadxt\\\\/js\\\\/lazyload.js\":1,\"sites\\\\/all\\\\/modules\\\\/contrib\\\\/stickynav\\\\/js\\\\/stickynav.js\":1,\"https:\\\\/\\\\/tags.tiqcdn.com\\\\/utag\\\\/\\\\/haymarket\\\\/fourfourtwo\\\\/prod\\\\/utag.sync.js\":1,\"sites\\\\/fourfourtwo.com\\\\/themes\\\\/fourfourtwo\\\\/js\\\\/script.js\":1,\"sites\\\\/fourfourtwo.com\\\\/themes\\\\/fourfourtwo\\\\/js\\\\/search.js\":1,\"sites\\\\/fourfourtwo.com\\\\/themes\\\\/fourfourtwo\\\\/js\\\\/mobile-menu.js\":1,\"sites\\\\/fourfourtwo.com\\\\/themes\\\\/fourfourtwo\\\\/js\\\\/gallery.js\":1,\"sites\\\\/fourfourtwo.com\\\\/themes\\\\/fourfourtwo\\\\/js\\\\/dropdown.js\":1,\"sites\\\\/fourfourtwo.com\\\\/themes\\\\/fourfourtwo\\\\/js\\\\/feedbackify.js\":1,\"sites\\\\/fourfourtwo.com\\\\/themes\\\\/fourfourtwo\\\\/js\\\\/locale-adjuster.js\":1,\"sites\\\\/fourfourtwo.com\\\\/themes\\\\/fourfourtwo\\\\/js\\\\/championships-menu.js\":1,\"sites\\\\/fourfourtwo.com\\\\/themes\\\\/fourfourtwo\\\\/js\\\\/sticky-share.js\":1}},\"fancybox\":{\"selectors\":[\".enlarge-slide\"]},\"hcm_external_blocks\":{\"mpu_wrapper_id\":\"block-hcm-external-blocks-mpu-flexible1\",\"mpu_id\":\"gpt_7294_mpu_flexible1\",\"top_margin\":60,\"min_height\":0},\"hcm_external_blocks_native\":{\"teaser_label\":{\"first\":\"Promotion\",\"second\":\"Promotion\"},\"dont_miss_block_label\":{\"first\":\"Promotion\",\"second\":\"Promotion\"},\"latest_stuff_block_label\":{\"first\":\"Promotion\",\"second\":\"Promotion\"},\"now_read_this_block_label\":\"Promotion\"},\"lazyloadxt\":{\"selectors\":\".event-img-full-width img\",\"containers\":\"article .article-content p\",\"animation_desktop\":\"fadeIn\",\"animation_mobile\":\"fadeInRight\"},\"stickynav\":{\"selector\":\"#navigation\"}});</script>\\n<!--[if lt IE 9]>\\n    <script src=\"/sites/all/themes/zen/js/html5-respond.js\"></script>\\n    <![endif]-->\\n</head>\\n<body class=\"maintenance-page in-maintenance no-sidebars\">\\n<div id=\"page\">\\n<header id=\"header\" role=\"banner\">\\n<a href=\"/\" id=\"logo\" rel=\"home\" title=\"Home\"><img alt=\"Home\" src=\"http://images.cdn.fourfourtwo.com/sites/fourfourtwo.com/themes/fourfourtwo/logo.png\"/></a>\\n</header>\\n<div id=\"main\">\\n<div class=\"column\" id=\"content\" role=\"main\">\\n<a id=\"main-content\"></a>\\n<h1 class=\"title\" id=\"page-title\">Site under maintenance</h1>\\n                  FourFourTwo.com is temporarily down for essential planned maintenance. We will be back shortly. In the meantime, enjoy FourFourTwo Films at youtube.com/fourfourtwo    </div>\\n<div id=\"navigation\">\\n</div>\\n</div>\\n</div>\\n</body>\\n</html>\\n"
      ]
     },
     "execution_count": 8,
     "metadata": {},
     "output_type": "execute_result"
    }
   ],
   "source": [
    "resultsPageSoup"
   ]
  },
  {
   "cell_type": "code",
   "execution_count": 7,
   "metadata": {
    "collapsed": false
   },
   "outputs": [],
   "source": [
    "resultsPageSoup = BeautifulSoup(resultsPage)"
   ]
  },
  {
   "cell_type": "code",
   "execution_count": 3,
   "metadata": {
    "collapsed": false
   },
   "outputs": [
    {
     "name": "stderr",
     "output_type": "stream",
     "text": [
      "/home/lucas/anaconda2/envs/football/lib/python2.7/site-packages/bs4/__init__.py:181: UserWarning: No parser was explicitly specified, so I'm using the best available HTML parser for this system (\"lxml\"). This usually isn't a problem, but if you run this code on another system, or in a different virtual environment, it may use a different parser and behave differently.\n",
      "\n",
      "The code that caused this warning is on line 174 of the file /home/lucas/anaconda2/envs/football/lib/python2.7/runpy.py. To get rid of this warning, change code that looks like this:\n",
      "\n",
      " BeautifulSoup([your markup])\n",
      "\n",
      "to this:\n",
      "\n",
      " BeautifulSoup([your markup], \"lxml\")\n",
      "\n",
      "  markup_type=markup_type))\n"
     ]
    },
    {
     "data": {
      "text/plain": [
       "{}"
      ]
     },
     "execution_count": 3,
     "metadata": {},
     "output_type": "execute_result"
    }
   ],
   "source": [
    "test = season_links(\"2015\")\n",
    "test"
   ]
  },
  {
   "cell_type": "code",
   "execution_count": 83,
   "metadata": {
    "collapsed": true
   },
   "outputs": [
    {
     "ename": "TypeError",
     "evalue": "key (u'West Bromwich Albion', u'Sunderland') is not a string",
     "output_type": "error",
     "traceback": [
      "\u001b[0;31m---------------------------------------------------------------------------\u001b[0m",
      "\u001b[0;31mTypeError\u001b[0m                                 Traceback (most recent call last)",
      "\u001b[0;32m<ipython-input-83-7b8061dc0fb7>\u001b[0m in \u001b[0;36m<module>\u001b[0;34m()\u001b[0m\n\u001b[1;32m      3\u001b[0m \u001b[0mtest\u001b[0m\u001b[0;34m\u001b[0m\u001b[0m\n\u001b[1;32m      4\u001b[0m \u001b[0;32mwith\u001b[0m \u001b[0mopen\u001b[0m\u001b[0;34m(\u001b[0m\u001b[0;34m'out.json'\u001b[0m\u001b[0;34m,\u001b[0m \u001b[0;34m'w'\u001b[0m\u001b[0;34m)\u001b[0m \u001b[0;32mas\u001b[0m \u001b[0mfp\u001b[0m\u001b[0;34m:\u001b[0m\u001b[0;34m\u001b[0m\u001b[0m\n\u001b[0;32m----> 5\u001b[0;31m     \u001b[0mjson\u001b[0m\u001b[0;34m.\u001b[0m\u001b[0mdump\u001b[0m\u001b[0;34m(\u001b[0m\u001b[0mtest\u001b[0m\u001b[0;34m,\u001b[0m \u001b[0mfp\u001b[0m\u001b[0;34m)\u001b[0m\u001b[0;34m\u001b[0m\u001b[0m\n\u001b[0m",
      "\u001b[0;32m/home/lucas/anaconda2/envs/football/lib/python2.7/json/__init__.pyc\u001b[0m in \u001b[0;36mdump\u001b[0;34m(obj, fp, skipkeys, ensure_ascii, check_circular, allow_nan, cls, indent, separators, encoding, default, sort_keys, **kw)\u001b[0m\n\u001b[1;32m    187\u001b[0m     \u001b[0;31m# could accelerate with writelines in some versions of Python, at\u001b[0m\u001b[0;34m\u001b[0m\u001b[0;34m\u001b[0m\u001b[0m\n\u001b[1;32m    188\u001b[0m     \u001b[0;31m# a debuggability cost\u001b[0m\u001b[0;34m\u001b[0m\u001b[0;34m\u001b[0m\u001b[0m\n\u001b[0;32m--> 189\u001b[0;31m     \u001b[0;32mfor\u001b[0m \u001b[0mchunk\u001b[0m \u001b[0;32min\u001b[0m \u001b[0miterable\u001b[0m\u001b[0;34m:\u001b[0m\u001b[0;34m\u001b[0m\u001b[0m\n\u001b[0m\u001b[1;32m    190\u001b[0m         \u001b[0mfp\u001b[0m\u001b[0;34m.\u001b[0m\u001b[0mwrite\u001b[0m\u001b[0;34m(\u001b[0m\u001b[0mchunk\u001b[0m\u001b[0;34m)\u001b[0m\u001b[0;34m\u001b[0m\u001b[0m\n\u001b[1;32m    191\u001b[0m \u001b[0;34m\u001b[0m\u001b[0m\n",
      "\u001b[0;32m/home/lucas/anaconda2/envs/football/lib/python2.7/json/encoder.pyc\u001b[0m in \u001b[0;36m_iterencode\u001b[0;34m(o, _current_indent_level)\u001b[0m\n\u001b[1;32m    432\u001b[0m                 \u001b[0;32myield\u001b[0m \u001b[0mchunk\u001b[0m\u001b[0;34m\u001b[0m\u001b[0m\n\u001b[1;32m    433\u001b[0m         \u001b[0;32melif\u001b[0m \u001b[0misinstance\u001b[0m\u001b[0;34m(\u001b[0m\u001b[0mo\u001b[0m\u001b[0;34m,\u001b[0m \u001b[0mdict\u001b[0m\u001b[0;34m)\u001b[0m\u001b[0;34m:\u001b[0m\u001b[0;34m\u001b[0m\u001b[0m\n\u001b[0;32m--> 434\u001b[0;31m             \u001b[0;32mfor\u001b[0m \u001b[0mchunk\u001b[0m \u001b[0;32min\u001b[0m \u001b[0m_iterencode_dict\u001b[0m\u001b[0;34m(\u001b[0m\u001b[0mo\u001b[0m\u001b[0;34m,\u001b[0m \u001b[0m_current_indent_level\u001b[0m\u001b[0;34m)\u001b[0m\u001b[0;34m:\u001b[0m\u001b[0;34m\u001b[0m\u001b[0m\n\u001b[0m\u001b[1;32m    435\u001b[0m                 \u001b[0;32myield\u001b[0m \u001b[0mchunk\u001b[0m\u001b[0;34m\u001b[0m\u001b[0m\n\u001b[1;32m    436\u001b[0m         \u001b[0;32melse\u001b[0m\u001b[0;34m:\u001b[0m\u001b[0;34m\u001b[0m\u001b[0m\n",
      "\u001b[0;32m/home/lucas/anaconda2/envs/football/lib/python2.7/json/encoder.pyc\u001b[0m in \u001b[0;36m_iterencode_dict\u001b[0;34m(dct, _current_indent_level)\u001b[0m\n\u001b[1;32m    380\u001b[0m                 \u001b[0;32mcontinue\u001b[0m\u001b[0;34m\u001b[0m\u001b[0m\n\u001b[1;32m    381\u001b[0m             \u001b[0;32melse\u001b[0m\u001b[0;34m:\u001b[0m\u001b[0;34m\u001b[0m\u001b[0m\n\u001b[0;32m--> 382\u001b[0;31m                 \u001b[0;32mraise\u001b[0m \u001b[0mTypeError\u001b[0m\u001b[0;34m(\u001b[0m\u001b[0;34m\"key \"\u001b[0m \u001b[0;34m+\u001b[0m \u001b[0mrepr\u001b[0m\u001b[0;34m(\u001b[0m\u001b[0mkey\u001b[0m\u001b[0;34m)\u001b[0m \u001b[0;34m+\u001b[0m \u001b[0;34m\" is not a string\"\u001b[0m\u001b[0;34m)\u001b[0m\u001b[0;34m\u001b[0m\u001b[0m\n\u001b[0m\u001b[1;32m    383\u001b[0m             \u001b[0;32mif\u001b[0m \u001b[0mfirst\u001b[0m\u001b[0;34m:\u001b[0m\u001b[0;34m\u001b[0m\u001b[0m\n\u001b[1;32m    384\u001b[0m                 \u001b[0mfirst\u001b[0m \u001b[0;34m=\u001b[0m \u001b[0mFalse\u001b[0m\u001b[0;34m\u001b[0m\u001b[0m\n",
      "\u001b[0;31mTypeError\u001b[0m: key (u'West Bromwich Albion', u'Sunderland') is not a string"
     ]
    }
   ],
   "source": [
    "import json\n",
    "test = season_links(\"2015\")\n",
    "test\n",
    "with open('out.json', 'w') as fp:\n",
    "    json.dump(test, fp)"
   ]
  },
  {
   "cell_type": "code",
   "execution_count": 34,
   "metadata": {
    "collapsed": true
   },
   "outputs": [],
   "source": [
    "def match_stats(link):\n",
    "    resultsPage = urllib.urlopen(link)\n",
    "    resultsPageSoup = BeautifulSoup(resultsPage)\n",
    "\n",
    "    #overall statistics\n",
    "    match_stats = {}\n",
    "    possession = resultsPageSoup.findAll('div', {'id':'summary_possessions'})[0].findAll('svg', {'class': 'doughnut_chart'})[0].text\n",
    "    match_stats['home_possession'] = float(possession.split('%')[0])\n",
    "    match_stats['away_possession'] = float(possession.split('%')[1])\n",
    "    \n",
    "    \n",
    "    match_stats['home_pass_cmplt'] = int(resultsPageSoup.findAll('div', {'id':'summary_passes'})[0].findAll('text', {'fill': \"#FCD800\"})[0].next)\n",
    "    match_stats['away_pass_cmplt'] = int(resultsPageSoup.findAll('div', {'id':'summary_passes'})[0].findAll('text', {'fill': \"#E6E6E6\"})[0].next)\n",
    "\n",
    "    match_stats['home_crnr'] = int(resultsPageSoup.findAll('div', {'id':'summary_corners'})[0].findAll('text', {'fill': \"#FCD800\"})[0].next)\n",
    "    match_stats['away_crnr'] = int(resultsPageSoup.findAll('div', {'id':'summary_corners'})[0].findAll('text', {'fill': \"#E6E6E6\"})[0].next)\n",
    "\n",
    "    match_stats['home_attck_pass'] = int(resultsPageSoup.findAll('div', {'id':'summary_attacking'})[0].findAll('text', {'fill': \"#FCD800\"})[0].next)\n",
    "    match_stats['away_attck_pass']= int(resultsPageSoup.findAll('div', {'id':'summary_attacking'})[0].findAll('text', {'fill': \"#E6E6E6\"})[0].next)\n",
    "\n",
    "    match_stats['home_shots'] = int(resultsPageSoup.findAll('div', {'id':'summary_shots'})[0].findAll('text', {'fill': \"#FCD800\"})[0].next)\n",
    "    match_stats['away_shots'] = int(resultsPageSoup.findAll('div', {'id':'summary_shots'})[0].findAll('text', {'fill': \"#E6E6E6\"})[0].next)\n",
    "\n",
    "    match_stats['home_fouls'] = int(resultsPageSoup.findAll('div', {'id':'summary_fouls'})[0].findAll('text', {'fill': \"#FCD800\"})[0].next)\n",
    "    match_stats['away_fouls'] = int(resultsPageSoup.findAll('div', {'id':'summary_fouls'})[0].findAll('text', {'fill': \"#E6E6E6\"})[0].next)\n",
    "\n",
    "    match_stats['date_location'] = resultsPageSoup.findAll('div', {'class': 'teams'})[0].next.strip()\n",
    "    \n",
    "    match_stats['date'] = match_stats['date_location'].split(',')[-2]\n",
    "    match_stats['time'] = match_stats['date_location'].split('-')[-1]\n",
    "    return(match_stats)\n"
   ]
  },
  {
   "cell_type": "code",
   "execution_count": 35,
   "metadata": {
    "collapsed": false
   },
   "outputs": [],
   "source": [
    "stats_test = match_stats(links[1])"
   ]
  },
  {
   "cell_type": "code",
   "execution_count": 36,
   "metadata": {
    "collapsed": false
   },
   "outputs": [
    {
     "data": {
      "text/plain": [
       "{'away_attck_pass': 86,\n",
       " 'away_crnr': 4,\n",
       " 'away_fouls': 6,\n",
       " 'away_pass_cmplt': 334,\n",
       " 'away_possession': 40.4,\n",
       " 'away_shots': 5,\n",
       " 'date': u' May 15',\n",
       " 'date_location': u'Emirates Stadium London, Sunday, May 15, 2016 - 15:00',\n",
       " 'home_attck_pass': 283,\n",
       " 'home_crnr': 5,\n",
       " 'home_fouls': 12,\n",
       " 'home_pass_cmplt': 537,\n",
       " 'home_possession': 59.6,\n",
       " 'home_shots': 16,\n",
       " 'time': u' 15:00'}"
      ]
     },
     "execution_count": 36,
     "metadata": {},
     "output_type": "execute_result"
    }
   ],
   "source": [
    "stats_test"
   ]
  },
  {
   "cell_type": "code",
   "execution_count": null,
   "metadata": {
    "collapsed": true
   },
   "outputs": [],
   "source": [
    "posession"
   ]
  },
  {
   "cell_type": "code",
   "execution_count": 42,
   "metadata": {
    "collapsed": false
   },
   "outputs": [],
   "source": [
    "#this is updated to output home and away team dictionaries\n",
    "#[ToDo] copy over to the updated class\n",
    "\n",
    "def player_links(game_link):\n",
    "    url = game_link + '/player-stats#tabs-wrapper-anchor'\n",
    "\n",
    "    \n",
    "    session = dryscrape.Session()\n",
    "    session.visit(url)\n",
    "    formatted_result = session.body()\n",
    "    \n",
    "\n",
    "    soup = BeautifulSoup(formatted_result, 'html5')\n",
    "    home_players = soup.findAll('div', {'class': 'lineup home'})\n",
    "    away_players = soup.findAll('div', {'class': 'lineup away'})\n",
    "\n",
    "\n",
    "    home_player_urls = ['http://www.fourfourtwo.com' + player.findAll('a')[0]['href'] \n",
    "       for player in home_players]\n",
    "    home_player_names = [player.findAll('a')[0].contents\n",
    "       for player in home_players]\n",
    "\n",
    "    away_player_urls = ['http://www.fourfourtwo.com' + player.findAll('a')[0]['href'] \n",
    "       for player in away_players]\n",
    "    away_player_names = [player.findAll('a')[0].contents\n",
    "       for player in away_players]\n",
    "\n",
    "    home_players = {}\n",
    "    for i in range(len(home_player_names)):\n",
    "        home_players[home_player_names[i][0]] = {\"link\":home_player_urls[i] }\n",
    "\n",
    "    away_players = {}\n",
    "    for i in range(len(away_player_names)):\n",
    "        away_players[away_player_names[i][0]] = {\"link\":away_player_urls[i] }\n",
    "    \n",
    "    return(home_players, away_players)\n"
   ]
  },
  {
   "cell_type": "code",
   "execution_count": 44,
   "metadata": {
    "collapsed": false
   },
   "outputs": [],
   "source": [
    "home, away = player_links('http://www.fourfourtwo.com/statszone/8-2015/matches/803532')"
   ]
  },
  {
   "cell_type": "code",
   "execution_count": 46,
   "metadata": {
    "collapsed": false
   },
   "outputs": [
    {
     "data": {
      "text/plain": [
       "{u'Ayew': {'link': u'http://www.fourfourtwo.com/statszone/8-2015/matches/803532/player-stats/80146/OVERALL_02#tabs-wrapper-anchor'},\n",
       " u'Bacuna': {'link': u'http://www.fourfourtwo.com/statszone/8-2015/matches/803532/player-stats/74297/OVERALL_02#tabs-wrapper-anchor'},\n",
       " u'Bunn': {'link': u'http://www.fourfourtwo.com/statszone/8-2015/matches/803532/player-stats/10954/OVERALL_02#tabs-wrapper-anchor'},\n",
       " u'Cissokho': {'link': u'http://www.fourfourtwo.com/statszone/8-2015/matches/803532/player-stats/44354/OVERALL_02#tabs-wrapper-anchor'},\n",
       " u'Gueye': {'link': u'http://www.fourfourtwo.com/statszone/8-2015/matches/803532/player-stats/80801/OVERALL_02#tabs-wrapper-anchor'},\n",
       " u'Lescott': {'link': u'http://www.fourfourtwo.com/statszone/8-2015/matches/803532/player-stats/7551/OVERALL_02#tabs-wrapper-anchor'},\n",
       " u'Lyden': {'link': u'http://www.fourfourtwo.com/statszone/8-2015/matches/803532/player-stats/160220/OVERALL_02#tabs-wrapper-anchor'},\n",
       " u'Sinclair': {'link': u'http://www.fourfourtwo.com/statszone/8-2015/matches/803532/player-stats/19688/OVERALL_02#tabs-wrapper-anchor'},\n",
       " u'S\\xe1nchez': {'link': u'http://www.fourfourtwo.com/statszone/8-2015/matches/803532/player-stats/42824/OVERALL_02#tabs-wrapper-anchor'},\n",
       " u'Toner': {'link': u'http://www.fourfourtwo.com/statszone/8-2015/matches/803532/player-stats/171213/OVERALL_02#tabs-wrapper-anchor'},\n",
       " u'Westwood': {'link': u'http://www.fourfourtwo.com/statszone/8-2015/matches/803532/player-stats/60551/OVERALL_02#tabs-wrapper-anchor'}}"
      ]
     },
     "execution_count": 46,
     "metadata": {},
     "output_type": "execute_result"
    }
   ],
   "source": [
    "away"
   ]
  },
  {
   "cell_type": "code",
   "execution_count": 40,
   "metadata": {
    "collapsed": false
   },
   "outputs": [],
   "source": [
    "game_link = 'http://www.fourfourtwo.com/statszone/8-2015/matches/803532'\n",
    "url = game_link + '/player-stats#tabs-wrapper-anchor'\n",
    "\n",
    "\n",
    "session = dryscrape.Session()\n",
    "session.visit(url)\n",
    "formatted_result = session.body()\n",
    "\n",
    "soup = BeautifulSoup(formatted_result, 'html5')\n",
    "home_players = soup.findAll('div', {'class': 'lineup home'})\n",
    "away_players = soup.findAll('div', {'class': 'lineup away'})\n",
    "\n",
    "\n",
    "home_player_urls = ['http://www.fourfourtwo.com' + player.findAll('a')[0]['href'] \n",
    "   for player in home_players]\n",
    "home_player_names = [player.findAll('a')[0].contents\n",
    "   for player in home_players]\n",
    "\n",
    "away_player_urls = ['http://www.fourfourtwo.com' + player.findAll('a')[0]['href'] \n",
    "   for player in away_players]\n",
    "away_player_names = [player.findAll('a')[0].contents\n",
    "   for player in away_players]\n",
    "    \n",
    "home_players = {}\n",
    "for i in range(len(home_player_names)):\n",
    "    home_players[home_player_names[i][0]] = {\"link\":home_player_urls[i] }\n",
    "        \n",
    "away_players = {}\n",
    "for i in range(len(away_player_names)):\n",
    "    away_players[away_player_names[i][0]] = {\"link\":away_player_urls[i] }"
   ]
  },
  {
   "cell_type": "code",
   "execution_count": 41,
   "metadata": {
    "collapsed": false
   },
   "outputs": [
    {
     "data": {
      "text/plain": [
       "{u'Ayew': {'link': u'http://www.fourfourtwo.com/statszone/8-2015/matches/803532/player-stats/80146/OVERALL_02#tabs-wrapper-anchor'},\n",
       " u'Bacuna': {'link': u'http://www.fourfourtwo.com/statszone/8-2015/matches/803532/player-stats/74297/OVERALL_02#tabs-wrapper-anchor'},\n",
       " u'Bunn': {'link': u'http://www.fourfourtwo.com/statszone/8-2015/matches/803532/player-stats/10954/OVERALL_02#tabs-wrapper-anchor'},\n",
       " u'Cissokho': {'link': u'http://www.fourfourtwo.com/statszone/8-2015/matches/803532/player-stats/44354/OVERALL_02#tabs-wrapper-anchor'},\n",
       " u'Gueye': {'link': u'http://www.fourfourtwo.com/statszone/8-2015/matches/803532/player-stats/80801/OVERALL_02#tabs-wrapper-anchor'},\n",
       " u'Lescott': {'link': u'http://www.fourfourtwo.com/statszone/8-2015/matches/803532/player-stats/7551/OVERALL_02#tabs-wrapper-anchor'},\n",
       " u'Lyden': {'link': u'http://www.fourfourtwo.com/statszone/8-2015/matches/803532/player-stats/160220/OVERALL_02#tabs-wrapper-anchor'},\n",
       " u'Sinclair': {'link': u'http://www.fourfourtwo.com/statszone/8-2015/matches/803532/player-stats/19688/OVERALL_02#tabs-wrapper-anchor'},\n",
       " u'S\\xe1nchez': {'link': u'http://www.fourfourtwo.com/statszone/8-2015/matches/803532/player-stats/42824/OVERALL_02#tabs-wrapper-anchor'},\n",
       " u'Toner': {'link': u'http://www.fourfourtwo.com/statszone/8-2015/matches/803532/player-stats/171213/OVERALL_02#tabs-wrapper-anchor'},\n",
       " u'Westwood': {'link': u'http://www.fourfourtwo.com/statszone/8-2015/matches/803532/player-stats/60551/OVERALL_02#tabs-wrapper-anchor'}}"
      ]
     },
     "execution_count": 41,
     "metadata": {},
     "output_type": "execute_result"
    }
   ],
   "source": [
    "away_players"
   ]
  },
  {
   "cell_type": "code",
   "execution_count": 37,
   "metadata": {
    "collapsed": false
   },
   "outputs": [
    {
     "data": {
      "text/plain": [
       "u'Bunn'"
      ]
     },
     "execution_count": 37,
     "metadata": {},
     "output_type": "execute_result"
    }
   ],
   "source": [
    "away_player_names[0][0]\n"
   ]
  },
  {
   "cell_type": "code",
   "execution_count": 27,
   "metadata": {
    "collapsed": false,
    "scrolled": true
   },
   "outputs": [
    {
     "data": {
      "text/plain": [
       "u'/statszone/8-2015/matches/803532/player-stats/11334/OVERALL_02#tabs-wrapper-anchor'"
      ]
     },
     "execution_count": 27,
     "metadata": {},
     "output_type": "execute_result"
    }
   ],
   "source": []
  },
  {
   "cell_type": "code",
   "execution_count": 13,
   "metadata": {
    "collapsed": false,
    "scrolled": true
   },
   "outputs": [
    {
     "data": {
      "text/plain": [
       "11"
      ]
     },
     "execution_count": 13,
     "metadata": {},
     "output_type": "execute_result"
    }
   ],
   "source": [
    "players = [for a in home_players]"
   ]
  },
  {
   "cell_type": "code",
   "execution_count": 7,
   "metadata": {
    "collapsed": false,
    "scrolled": false
   },
   "outputs": [
    {
     "name": "stderr",
     "output_type": "stream",
     "text": [
      "/home/lucas/anaconda2/envs/football/lib/python2.7/site-packages/bs4/__init__.py:181: UserWarning: No parser was explicitly specified, so I'm using the best available HTML parser for this system (\"html5lib\"). This usually isn't a problem, but if you run this code on another system, or in a different virtual environment, it may use a different parser and behave differently.\n",
      "\n",
      "The code that caused this warning is on line 174 of the file /home/lucas/anaconda2/envs/football/lib/python2.7/runpy.py. To get rid of this warning, change code that looks like this:\n",
      "\n",
      " BeautifulSoup([your markup])\n",
      "\n",
      "to this:\n",
      "\n",
      " BeautifulSoup([your markup], \"html5lib\")\n",
      "\n",
      "  markup_type=markup_type))\n"
     ]
    }
   ],
   "source": [
    "players = player_links('http://www.fourfourtwo.com/statszone/8-2015/matches/803532')"
   ]
  },
  {
   "cell_type": "code",
   "execution_count": 8,
   "metadata": {
    "collapsed": false
   },
   "outputs": [
    {
     "data": {
      "text/plain": [
       "{u'Ayew': {'link': u'http://www.fourfourtwo.com/statszone/8-2015/matches/803532/player-stats/80146/OVERALL_02#tabs-wrapper-anchor'},\n",
       " u'Bacuna': {'link': u'http://www.fourfourtwo.com/statszone/8-2015/matches/803532/player-stats/74297/OVERALL_02#tabs-wrapper-anchor'},\n",
       " u'Beller\\xedn': {'link': u'http://www.fourfourtwo.com/statszone/8-2015/matches/803532/player-stats/98745/OVERALL_02#tabs-wrapper-anchor'},\n",
       " u'Bunn': {'link': u'http://www.fourfourtwo.com/statszone/8-2015/matches/803532/player-stats/10954/OVERALL_02#tabs-wrapper-anchor'},\n",
       " u'Cazorla': {'link': u'http://www.fourfourtwo.com/statszone/8-2015/matches/803532/player-stats/19524/OVERALL_02#tabs-wrapper-anchor'},\n",
       " u'Cech': {'link': u'http://www.fourfourtwo.com/statszone/8-2015/matches/803532/player-stats/11334/OVERALL_02#tabs-wrapper-anchor'},\n",
       " u'Cissokho': {'link': u'http://www.fourfourtwo.com/statszone/8-2015/matches/803532/player-stats/44354/OVERALL_02#tabs-wrapper-anchor'},\n",
       " u'Coquelin': {'link': u'http://www.fourfourtwo.com/statszone/8-2015/matches/803532/player-stats/56864/OVERALL_02#tabs-wrapper-anchor'},\n",
       " u'Giroud': {'link': u'http://www.fourfourtwo.com/statszone/8-2015/matches/803532/player-stats/44346/OVERALL_02#tabs-wrapper-anchor'},\n",
       " u'Gueye': {'link': u'http://www.fourfourtwo.com/statszone/8-2015/matches/803532/player-stats/80801/OVERALL_02#tabs-wrapper-anchor'},\n",
       " u'Koscielny': {'link': u'http://www.fourfourtwo.com/statszone/8-2015/matches/803532/player-stats/51507/OVERALL_02#tabs-wrapper-anchor'},\n",
       " u'Lescott': {'link': u'http://www.fourfourtwo.com/statszone/8-2015/matches/803532/player-stats/7551/OVERALL_02#tabs-wrapper-anchor'},\n",
       " u'Lyden': {'link': u'http://www.fourfourtwo.com/statszone/8-2015/matches/803532/player-stats/160220/OVERALL_02#tabs-wrapper-anchor'},\n",
       " u'Monreal': {'link': u'http://www.fourfourtwo.com/statszone/8-2015/matches/803532/player-stats/38411/OVERALL_02#tabs-wrapper-anchor'},\n",
       " u'Sinclair': {'link': u'http://www.fourfourtwo.com/statszone/8-2015/matches/803532/player-stats/19688/OVERALL_02#tabs-wrapper-anchor'},\n",
       " u'S\\xe1nchez': {'link': u'http://www.fourfourtwo.com/statszone/8-2015/matches/803532/player-stats/37265/OVERALL_02#tabs-wrapper-anchor'},\n",
       " u'Toner': {'link': u'http://www.fourfourtwo.com/statszone/8-2015/matches/803532/player-stats/171213/OVERALL_02#tabs-wrapper-anchor'},\n",
       " u'Westwood': {'link': u'http://www.fourfourtwo.com/statszone/8-2015/matches/803532/player-stats/60551/OVERALL_02#tabs-wrapper-anchor'},\n",
       " u'Wilshere': {'link': u'http://www.fourfourtwo.com/statszone/8-2015/matches/803532/player-stats/54102/OVERALL_02#tabs-wrapper-anchor'},\n",
       " u'de Abreu': {'link': u'http://www.fourfourtwo.com/statszone/8-2015/matches/803532/player-stats/158074/OVERALL_02#tabs-wrapper-anchor'},\n",
       " u'\\xd6zil': {'link': u'http://www.fourfourtwo.com/statszone/8-2015/matches/803532/player-stats/37605/OVERALL_02#tabs-wrapper-anchor'}}"
      ]
     },
     "execution_count": 8,
     "metadata": {},
     "output_type": "execute_result"
    }
   ],
   "source": [
    "players"
   ]
  },
  {
   "cell_type": "code",
   "execution_count": 5,
   "metadata": {
    "collapsed": true
   },
   "outputs": [],
   "source": [
    "def player_stats(url):\n",
    "    #\n",
    "    playerPage = Render(url)\n",
    "    playerPageRendered = playerPage.frame.toHtml()\n",
    "    playerPageFormatted = str(playerPageRendered.toAscii())\n",
    "    playerSoup = BeautifulSoup(playerPageFormatted, 'html5')\n",
    "    \n",
    "    match_stats = {}\n",
    "    #passes\n",
    "    match_stats['pass_success'] = len(playerSoup.findAll('line', {'marker-end': 'url(#smallblue)'}))\n",
    "    match_stats['pass_fail'] = len(playerSoup.findAll('line', {'marker-end': 'url(#smallred)'}))\n",
    "    match_stats['chances'] = len(playerSoup.findAll('line', {'marker-end': 'url(#smalldeepskyblue)'}))\n",
    "    match_stats['assists'] = len(playerSoup.findAll('line', {'marker-end': 'url(#smallyellow)'}))\n",
    "\n",
    "    #shots\n",
    "    match_stats['on_target'] = len(playerSoup.findAll('line', {'marker-end': 'url(#bigblueend)'}))\n",
    "    match_stats['off_target'] = len(playerSoup.findAll('line', {'marker-end': 'url(#bigredend)'}))\n",
    "    match_stats['on_target'] = len(playerSoup.findAll('line', {'marker-end': 'url(#bigblueend)'}))\n",
    "    match_stats['goals'] = len(playerSoup.findAll('line', {'marker-start': 'url(#bigyellowend)'}))\n",
    "\n",
    "    #takeons\n",
    "    match_stats['takeon_success'] = len(playerSoup.findAll('image', {'href': '/sites/fourfourtwo.com/modules/custom/statzone/files/icons/success.png'}))\n",
    "    match_stats['takeon_fail'] = len(playerSoup.findAll('image', {'href': '/sites/fourfourtwo.com/modules/custom/statzone/files/icons/fail.png'}))\n",
    "\n",
    "    #defensive\n",
    "    match_stats['fail_tkl'] = len(playerSoup.findAll('image', {'href': '/sites/fourfourtwo.com/modules/custom/statzone/files/icons/failed_tackle.png'}))\n",
    "    match_stats['success_tkl'] = len(playerSoup.findAll('image', {'href': '/sites/fourfourtwo.com/modules/custom/statzone/files/icons/successful_tackle.png'}))\n",
    "    match_stats['success_clearence'] = len(playerSoup.findAll('image', {'href': '/sites/fourfourtwo.com/modules/custom/statzone/files/icons/successful_clearence.png'}))\n",
    "    match_stats['failed_clearence'] = len(playerSoup.findAll('image', {'href': '/sites/fourfourtwo.com/modules/custom/statzone/files/icons/failed_clearence.png'}))\n",
    "    match_stats['interception'] = len(playerSoup.findAll('image', {'href': '/sites/fourfourtwo.com/modules/custom/statzone/files/icons/interceptions.png'}))\n",
    "    match_stats['ball_recovery'] = len(playerSoup.findAll('image', {'href': '/sites/fourfourtwo.com/modules/custom/statzone/files/icons/defensive-ball-clearence.png'}))\n",
    "    match_stats['blocks'] = len(playerSoup.findAll('image', {'href': '/sites/fourfourtwo.com/modules/custom/statzone/files/icons/blocks.png'}))\n",
    "    match_stats['blocks_cross'] = len(playerSoup.findAll('image', {'href': '/sites/fourfourtwo.com/modules/custom/statzone/files/icons/blocks-cross.png'}))\n",
    "\n",
    "    #aerial\n",
    "    match_stats['aerial_won'] = len(playerSoup.findAll('image', {'href': '/sites/fourfourtwo.com/modules/custom/statzone/files/icons/won.png'}))\n",
    "    match_stats['aerial_lost'] = len(playerSoup.findAll('image', {'href': '/sites/fourfourtwo.com/modules/custom/statzone/files/icons/lost.png'}))\n",
    "\n",
    "    #fouls\n",
    "    match_stats['foul_cmt'] = len(playerSoup.findAll('image', {'href': '/sites/fourfourtwo.com/modules/custom/statzone/files/icons/commited.png'}))\n",
    "    match_stats['foul_sfr'] = len(playerSoup.findAll('image', {'href': '/sites/fourfourtwo.com/modules/custom/statzone/files/icons/suffered.png'}))\n",
    "\n",
    "    #errors\n",
    "    match_stats['error_goal'] = len(playerSoup.findAll('image', {'href': '/sites/fourfourtwo.com/modules/custom/statzone/files/icons/error-leading-goal.png'}))\n",
    "    match_stats['error_shot'] = len(playerSoup.findAll('image', {'href': '/sites/fourfourtwo.com/modules/custom/statzone/files/icons/error-leading-shot.png'}))\n",
    "    \n",
    "    return(match_stats)\n",
    "    \n",
    "    \n",
    "    "
   ]
  },
  {
   "cell_type": "code",
   "execution_count": null,
   "metadata": {
    "collapsed": false
   },
   "outputs": [],
   "source": [
    "url = players['Gueye']['link']"
   ]
  },
  {
   "cell_type": "code",
   "execution_count": 6,
   "metadata": {
    "collapsed": false,
    "scrolled": true
   },
   "outputs": [
    {
     "name": "stderr",
     "output_type": "stream",
     "text": [
      "/home/lucas/anaconda2/envs/football/lib/python2.7/site-packages/bs4/__init__.py:181: UserWarning: No parser was explicitly specified, so I'm using the best available HTML parser for this system (\"html5lib\"). This usually isn't a problem, but if you run this code on another system, or in a different virtual environment, it may use a different parser and behave differently.\n",
      "\n",
      "The code that caused this warning is on line 174 of the file /home/lucas/anaconda2/envs/football/lib/python2.7/runpy.py. To get rid of this warning, change code that looks like this:\n",
      "\n",
      " BeautifulSoup([your markup])\n",
      "\n",
      "to this:\n",
      "\n",
      " BeautifulSoup([your markup], \"html5lib\")\n",
      "\n",
      "  markup_type=markup_type))\n"
     ]
    }
   ],
   "source": [
    "stats = player_stats('http://www.fourfourtwo.com/statszone/8-2015/matches/803532/player-stats/80801/OVERALL_02#tabs-wrapper-anchor')"
   ]
  },
  {
   "cell_type": "code",
   "execution_count": 7,
   "metadata": {
    "collapsed": false
   },
   "outputs": [
    {
     "data": {
      "text/plain": [
       "{'aerial_lost': 0,\n",
       " 'aerial_won': 0,\n",
       " 'assists': 0,\n",
       " 'ball_recovery': 0,\n",
       " 'blocks': 0,\n",
       " 'blocks_cross': 0,\n",
       " 'chances': 1,\n",
       " 'error_goal': 0,\n",
       " 'error_shot': 0,\n",
       " 'fail_tkl': 0,\n",
       " 'failed_clearence': 0,\n",
       " 'foul_cmt': 2,\n",
       " 'foul_sfr': 1,\n",
       " 'goals': 0,\n",
       " 'interception': 1,\n",
       " 'off_target': 0,\n",
       " 'on_target': 0,\n",
       " 'pass_fail': 7,\n",
       " 'pass_success': 53,\n",
       " 'success_clearence': 0,\n",
       " 'success_tkl': 2,\n",
       " 'takeon_fail': 2,\n",
       " 'takeon_success': 2}"
      ]
     },
     "execution_count": 7,
     "metadata": {},
     "output_type": "execute_result"
    }
   ],
   "source": [
    "stats"
   ]
  },
  {
   "cell_type": "code",
   "execution_count": 10,
   "metadata": {
    "collapsed": false
   },
   "outputs": [
    {
     "data": {
      "text/plain": [
       "0"
      ]
     },
     "execution_count": 10,
     "metadata": {},
     "output_type": "execute_result"
    }
   ],
   "source": [
    "len(stats['aerial_lost'])"
   ]
  },
  {
   "cell_type": "code",
   "execution_count": 6,
   "metadata": {
    "collapsed": false
   },
   "outputs": [
    {
     "name": "stderr",
     "output_type": "stream",
     "text": [
      "/home/lucas/anaconda2/envs/football/lib/python2.7/site-packages/bs4/__init__.py:181: UserWarning: No parser was explicitly specified, so I'm using the best available HTML parser for this system (\"html5lib\"). This usually isn't a problem, but if you run this code on another system, or in a different virtual environment, it may use a different parser and behave differently.\n",
      "\n",
      "The code that caused this warning is on line 174 of the file /home/lucas/anaconda2/envs/football/lib/python2.7/runpy.py. To get rid of this warning, change code that looks like this:\n",
      "\n",
      " BeautifulSoup([your markup])\n",
      "\n",
      "to this:\n",
      "\n",
      " BeautifulSoup([your markup], \"html5lib\")\n",
      "\n",
      "  markup_type=markup_type))\n"
     ]
    }
   ],
   "source": [
    "playerPage = Render('http://www.fourfourtwo.com/statszone/8-2015/matches/803532/player-stats/80801/OVERALL_02#tabs-wrapper-anchor')\n",
    "playerPageRendered = playerPage.frame.toHtml()\n",
    "playerPageFormatted = str(playerPageRendered.toAscii())\n",
    "playerSoup = BeautifulSoup(playerPageFormatted, 'html5')"
   ]
  },
  {
   "cell_type": "code",
   "execution_count": null,
   "metadata": {
    "collapsed": true
   },
   "outputs": [],
   "source": []
  },
  {
   "cell_type": "code",
   "execution_count": null,
   "metadata": {
    "collapsed": true
   },
   "outputs": [],
   "source": [
    "\n",
    "#\n",
    "playerPage = Render(url)\n",
    "playerPageRendered = playerPage.frame.toHtml()\n",
    "playerPageFormatted = str(playerPageRendered.toAscii())\n",
    "playerSoup = BeautifulSoup(playerPageFormatted, 'html5')\n",
    "\n",
    "match_stats = {}\n",
    "#passes\n",
    "match_stats['pass_success'] = playerSoup.findAll('line', {'marker-end': 'url(#smallblue)'})\n",
    "match_stats['pass_fail'] = playerSoup.findAll('line', {'marker-end': 'url(#smallred)'})\n",
    "match_stats['chances'] = playerSoup.findAll('line', {'marker-end': 'url(#smalldeepskyblue)'})\n",
    "match_stats['assists'] = playerSoup.findAll('line', {'marker-end': 'url(#smallyellow)'})\n",
    "\n",
    "#shots\n",
    "match_stats['on_target'] = playerSoup.findAll('line', {'marker-end': 'url(#bigblueend)'})\n",
    "match_stats['off_target'] = playerSoup.findAll('line', {'marker-end': 'url(#bigredend)'})\n",
    "match_stats['on_target'] = playerSoup.findAll('line', {'marker-end': 'url(#bigblueend)'})\n",
    "match_stats['goals'] = playerSoup.findAll('line', {'marker-start': 'url(#bigyellowend)'})\n",
    "\n",
    "#takeons\n",
    "match_stats['takeon_success'] = playerSoup.findAll('image', {'href': '/sites/fourfourtwo.com/modules/custom/statzone/files/icons/success.png'})\n",
    "match_stats['takeon_fail'] = playerSoup.findAll('image', {'href': '/sites/fourfourtwo.com/modules/custom/statzone/files/icons/fail.png'})\n",
    "\n",
    "#defensive\n",
    "match_stats['fail_tkl'] = playerSoup.findAll('image', {'href': '/sites/fourfourtwo.com/modules/custom/statzone/files/icons/failed_tackle.png'})\n",
    "match_stats['success_tkl'] = playerSoup.findAll('image', {'href': '/sites/fourfourtwo.com/modules/custom/statzone/files/icons/successful_tackle.png'})\n",
    "match_stats['success_clearence'] = playerSoup.findAll('image', {'href': '/sites/fourfourtwo.com/modules/custom/statzone/files/icons/successful_clearence.png'})\n",
    "match_stats['failed_clearence'] = playerSoup.findAll('image', {'href': '/sites/fourfourtwo.com/modules/custom/statzone/files/icons/failed_clearence.png'})\n",
    "match_stats['interception'] = playerSoup.findAll('image', {'href': '/sites/fourfourtwo.com/modules/custom/statzone/files/icons/interceptions.png'})\n",
    "match_stats['ball_recovery'] = playerSoup.findAll('image', {'href': '/sites/fourfourtwo.com/modules/custom/statzone/files/icons/defensive-ball-clearence.png'})\n",
    "match_stats['blocks'] = playerSoup.findAll('image', {'href': '/sites/fourfourtwo.com/modules/custom/statzone/files/icons/blocks.png'})\n",
    "match_stats['blocks_cross'] = playerSoup.findAll('image', {'href': '/sites/fourfourtwo.com/modules/custom/statzone/files/icons/blocks-cross.png'})\n",
    "\n",
    "#aerial\n",
    "match_stats['aerial_won'] = playerSoup.findAll('image', {'href': '/sites/fourfourtwo.com/modules/custom/statzone/files/icons/won.png'})\n",
    "match_stats['aerial_lost'] = playerSoup.findAll('image', {'href': '/sites/fourfourtwo.com/modules/custom/statzone/files/icons/lost.png'})\n",
    "\n",
    "#fouls\n",
    "match_stats['foul_cmt'] = playerSoup.findAll('image', {'href': '/sites/fourfourtwo.com/modules/custom/statzone/files/icons/commited.png'})\n",
    "match_stats['foul_sfr'] = playerSoup.findAll('image', {'href': '/sites/fourfourtwo.com/modules/custom/statzone/files/icons/suffered.png'})\n",
    "\n",
    "#errors\n",
    "match_stats['error_goal'] = playerSoup.findAll('image', {'href': '/sites/fourfourtwo.com/modules/custom/statzone/files/icons/error-leading-goal.png'})\n",
    "match_stats['error_shot'] = playerSoup.findAll('image', {'href': '/sites/fourfourtwo.com/modules/custom/statzone/files/icons/error-leading-shot.png'})\n",
    "\n",
    "\n",
    "\n"
   ]
  },
  {
   "cell_type": "code",
   "execution_count": 7,
   "metadata": {
    "collapsed": false
   },
   "outputs": [
    {
     "data": {
      "text/plain": [
       "u'Gueye'"
      ]
     },
     "execution_count": 7,
     "metadata": {},
     "output_type": "execute_result"
    }
   ],
   "source": [
    "players.keys()[1]"
   ]
  },
  {
   "cell_type": "code",
   "execution_count": null,
   "metadata": {
    "collapsed": false
   },
   "outputs": [],
   "source": [
    "stats = player_stats(players['Gueye']['link'])"
   ]
  },
  {
   "cell_type": "code",
   "execution_count": 3,
   "metadata": {
    "collapsed": false
   },
   "outputs": [
    {
     "name": "stderr",
     "output_type": "stream",
     "text": [
      "/Users/lucaslafone/anaconda/envs/MLlib/lib/python2.7/site-packages/bs4/__init__.py:166: UserWarning: No parser was explicitly specified, so I'm using the best available HTML parser for this system (\"html5lib\"). This usually isn't a problem, but if you run this code on another system, or in a different virtual environment, it may use a different parser and behave differently.\n",
      "\n",
      "To get rid of this warning, change this:\n",
      "\n",
      " BeautifulSoup([your markup])\n",
      "\n",
      "to this:\n",
      "\n",
      " BeautifulSoup([your markup], \"html5lib\")\n",
      "\n",
      "  markup_type=markup_type))\n"
     ]
    }
   ],
   "source": [
    "url = 'http://www.fourfourtwo.com/statszone/8-2015/matches/803532/player-stats/37265/OVERALL_02#tabs-wrapper-anchor'\n",
    "playerPage = Render(url)\n",
    "playerPageRendered = playerPage.frame.toHtml()\n",
    "playerPageFormatted = str(playerPageRendered.toAscii())\n",
    "playerSoup = BeautifulSoup(playerPageFormatted, 'html5')\n"
   ]
  },
  {
   "cell_type": "code",
   "execution_count": 5,
   "metadata": {
    "collapsed": false
   },
   "outputs": [
    {
     "data": {
      "text/plain": [
       "[<line class=\"pitch-object timer-1-4\" marker-end=\"url(#bigyellow)\" marker-start=\"url(#bigyellowend)\" style=\"stroke:yellow;stroke-width:3\" x1=\"621.16\" x2=\"692\" y1=\"258.095\" y2=\"246.139\"></line>,\n",
       " <line class=\"pitch-object timer-2-77\" marker-end=\"url(#bigyellow)\" marker-start=\"url(#bigyellowend)\" style=\"stroke:yellow;stroke-width:3\" x1=\"658.512\" x2=\"692\" y1=\"230.34\" y2=\"264.073\"></line>,\n",
       " <line class=\"pitch-object timer-2-79\" marker-end=\"url(#bigyellow)\" marker-start=\"url(#bigyellowend)\" style=\"stroke:yellow;stroke-width:3\" x1=\"643.7\" x2=\"692\" y1=\"234.183\" y2=\"255.96\"></line>]"
      ]
     },
     "execution_count": 5,
     "metadata": {},
     "output_type": "execute_result"
    }
   ],
   "source": [
    "soup.findAll('line', {'marker-start': 'url(#bigyellowend)'})"
   ]
  },
  {
   "cell_type": "code",
   "execution_count": 4,
   "metadata": {
    "collapsed": false
   },
   "outputs": [
    {
     "data": {
      "text/plain": [
       "[]"
      ]
     },
     "execution_count": 4,
     "metadata": {},
     "output_type": "execute_result"
    }
   ],
   "source": [
    "soup.findAll('image', {'xlink:href': '/sites/fourfourtwo.com/modules/custom/statzone/files/icons/success.png'})"
   ]
  },
  {
   "cell_type": "code",
   "execution_count": 15,
   "metadata": {
    "collapsed": false
   },
   "outputs": [
    {
     "data": {
      "text/plain": [
       "4"
      ]
     },
     "execution_count": 15,
     "metadata": {},
     "output_type": "execute_result"
    }
   ],
   "source": [
    "len(chances)"
   ]
  },
  {
   "cell_type": "code",
   "execution_count": 5,
   "metadata": {
    "collapsed": false
   },
   "outputs": [],
   "source": [
    "\n",
    "#passes\n",
    "pass_success = playerSoup.findAll('line', {'marker-end': 'url(#smallblue)'})\n",
    "pass_fail = playerSoup.findAll('line', {'marker-end': 'url(#smallred)'})\n",
    "chances = playerSoup.findAll('line', {'marker-end': 'url(#smalldeepskyblue)'})\n",
    "assists = playerSoup.findAll('line', {'marker-end': 'url(#smallyellow)'})\n",
    "\n",
    "#shots\n",
    "on_target = playerSoup.findAll('line', {'marker-end': 'url(#bigblueend)'})\n",
    "off_target = playerSoup.findAll('line', {'marker-end': 'url(#bigredend)'})\n",
    "on_target = playerSoup.findAll('line', {'marker-end': 'url(#bigblueend)'})\n",
    "goals = playerSoup.findAll('line', {'marker-start': 'url(#bigyellowend)'})\n",
    "\n",
    "#takeons\n",
    "takeon_success = playerSoup.findAll('image', {'href': '/sites/fourfourtwo.com/modules/custom/statzone/files/icons/success.png'})\n",
    "takeon_fail = playerSoup.findAll('image', {'href': '/sites/fourfourtwo.com/modules/custom/statzone/files/icons/fail.png'})\n",
    "\n",
    "#defensive\n",
    "fail_tkl = playerSoup.findAll('image', {'href': '/sites/fourfourtwo.com/modules/custom/statzone/files/icons/failed_tackle.png'})\n",
    "success_tkl = playerSoup.findAll('image', {'href': '/sites/fourfourtwo.com/modules/custom/statzone/files/icons/successful_tackle.png'})\n",
    "success_clearence = playerSoup.findAll('image', {'href': '/sites/fourfourtwo.com/modules/custom/statzone/files/icons/successful_clearence.png'})\n",
    "failed_clearence = playerSoup.findAll('image', {'href': '/sites/fourfourtwo.com/modules/custom/statzone/files/icons/failed_clearence.png'})\n",
    "interception = playerSoup.findAll('image', {'href': '/sites/fourfourtwo.com/modules/custom/statzone/files/icons/interceptions.png'})\n",
    "ball_recovery = playerSoup.findAll('image', {'href': '/sites/fourfourtwo.com/modules/custom/statzone/files/icons/defensive-ball-clearence.png'})\n",
    "blocks = playerSoup.findAll('image', {'href': '/sites/fourfourtwo.com/modules/custom/statzone/files/icons/blocks.png'})\n",
    "blocks_cross = playerSoup.findAll('image', {'href': '/sites/fourfourtwo.com/modules/custom/statzone/files/icons/blocks-cross.png'})\n",
    "\n",
    "#aerial\n",
    "aerial_won = playerSoup.findAll('image', {'href': '/sites/fourfourtwo.com/modules/custom/statzone/files/icons/won.png'})\n",
    "aerial_lost = playerSoup.findAll('image', {'href': '/sites/fourfourtwo.com/modules/custom/statzone/files/icons/lost.png'})\n",
    "\n",
    "#fouls\n",
    "foul_cmt = playerSoup.findAll('image', {'href': '/sites/fourfourtwo.com/modules/custom/statzone/files/icons/commited.png'})\n",
    "foul_sfr = playerSoup.findAll('image', {'href': '/sites/fourfourtwo.com/modules/custom/statzone/files/icons/suffered.png'})\n",
    "\n",
    "#errors\n",
    "error_goal = playerSoup.findAll('image', {'href': '/sites/fourfourtwo.com/modules/custom/statzone/files/icons/error-leading-goal.png'})\n",
    "error_shot = playerSoup.findAll('image', {'href': '/sites/fourfourtwo.com/modules/custom/statzone/files/icons/error-leading-shot.png'})\n"
   ]
  },
  {
   "cell_type": "code",
   "execution_count": 7,
   "metadata": {
    "collapsed": false
   },
   "outputs": [
    {
     "data": {
      "text/plain": [
       "42"
      ]
     },
     "execution_count": 7,
     "metadata": {},
     "output_type": "execute_result"
    }
   ],
   "source": [
    "len(goals)\n",
    "len(pass_success)"
   ]
  },
  {
   "cell_type": "code",
   "execution_count": 39,
   "metadata": {
    "collapsed": false
   },
   "outputs": [
    {
     "data": {
      "text/plain": [
       "[<image height=\"529\" width=\"740\" x=\"0\" xlink:href=\"/sites/fourfourtwo.com/modules/custom/statzone/files/statszone_football_pitch.png\" y=\"0\"></image>]"
      ]
     },
     "execution_count": 39,
     "metadata": {},
     "output_type": "execute_result"
    }
   ],
   "source": []
  },
  {
   "cell_type": "code",
   "execution_count": null,
   "metadata": {
    "collapsed": true
   },
   "outputs": [],
   "source": []
  }
 ],
 "metadata": {
  "anaconda-cloud": {},
  "kernelspec": {
   "display_name": "Python [conda env:football]",
   "language": "python",
   "name": "conda-env-football-py"
  },
  "language_info": {
   "codemirror_mode": {
    "name": "ipython",
    "version": 2
   },
   "file_extension": ".py",
   "mimetype": "text/x-python",
   "name": "python",
   "nbconvert_exporter": "python",
   "pygments_lexer": "ipython2",
   "version": "2.7.13"
  }
 },
 "nbformat": 4,
 "nbformat_minor": 0
}
