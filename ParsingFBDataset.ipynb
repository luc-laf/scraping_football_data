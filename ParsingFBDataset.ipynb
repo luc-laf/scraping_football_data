{
 "cells": [
  {
   "cell_type": "code",
   "execution_count": 1,
   "metadata": {
    "collapsed": false
   },
   "outputs": [],
   "source": [
    "from bs4 import BeautifulSoup\n",
    "import urllib\n",
    "import sys  \n",
    "from PyQt4.QtGui import *  \n",
    "from PyQt4.QtCore import *  \n",
    "from PyQt4.QtWebKit import *  \n",
    "from lxml import html "
   ]
  },
  {
   "cell_type": "code",
   "execution_count": 2,
   "metadata": {
    "collapsed": false
   },
   "outputs": [],
   "source": [
    "#class for rendering js pages for use with BS\n",
    "class Render(QWebPage):  \n",
    "    def __init__(self, url):  \n",
    "        self.app = QApplication(sys.argv)  \n",
    "        QWebPage.__init__(self)  \n",
    "        self.loadFinished.connect(self._loadFinished)  \n",
    "        self.mainFrame().load(QUrl(url))  \n",
    "        self.app.exec_()  \n",
    "  \n",
    "    def _loadFinished(self, result):  \n",
    "        self.frame = self.mainFrame()  \n",
    "        self.app.quit() "
   ]
  },
  {
   "cell_type": "code",
   "execution_count": 84,
   "metadata": {
    "collapsed": false,
    "scrolled": true
   },
   "outputs": [],
   "source": [
    "#list of all mathces in list links\n",
    "def season_links(year):\n",
    "    resultsPage = urllib.urlopen(\"http://www.fourfourtwo.com/statszone/results/8-\" + year)\n",
    "    resultsPageSoup = BeautifulSoup(resultsPage)\n",
    "    scores = resultsPageSoup.findAll('td', {'class': 'score'})\n",
    "    homeTeams = resultsPageSoup.findAll('td', {'class': 'home-team'})\n",
    "    awayTeams = resultsPageSoup.findAll('td', {'class': 'away-team'})\n",
    "    #matches = [homeTeams[i].contents[0].strip()+\"_\"+awayTeams[i].contents[0].strip() for i in range(0,len(homeTeams))]\n",
    "    gamesStatsLinks = ['http://www.fourfourtwo.com' + \n",
    "                       l.a['href'] for l in resultsPageSoup.findAll('td', {'class': 'link-to-match'})]\n",
    "\n",
    "    season = {}\n",
    "    \n",
    "    for i in range(0,len(homeTeams)):\n",
    "        season[(homeTeams[i].contents[0], awayTeams[i].contents[0])] = {\n",
    "            \"homeTeam\":homeTeams[i].contents[0],\n",
    "            \"awayTeam\":awayTeams[i].contents[0],\n",
    "            \"homeGoals\":int(scores[i].contents[0].split(\"-\")[0]),\n",
    "            \"awayGoals\":int(scores[i].contents[0].split(\"-\")[1]),\n",
    "            \"link\":gamesStatsLinks[i]\n",
    "        }\n",
    "    \n",
    "    return(season)"
   ]
  },
  {
   "cell_type": "code",
   "execution_count": null,
   "metadata": {
    "collapsed": true
   },
   "outputs": [],
   "source": [
    "test = season_links(\"2015\")\n",
    "test"
   ]
  },
  {
   "cell_type": "code",
   "execution_count": 83,
   "metadata": {
    "collapsed": true
   },
   "outputs": [
    {
     "ename": "TypeError",
     "evalue": "key (u'West Bromwich Albion', u'Sunderland') is not a string",
     "output_type": "error",
     "traceback": [
      "\u001b[0;31m---------------------------------------------------------------------------\u001b[0m",
      "\u001b[0;31mTypeError\u001b[0m                                 Traceback (most recent call last)",
      "\u001b[0;32m<ipython-input-83-7b8061dc0fb7>\u001b[0m in \u001b[0;36m<module>\u001b[0;34m()\u001b[0m\n\u001b[1;32m      3\u001b[0m \u001b[0mtest\u001b[0m\u001b[0;34m\u001b[0m\u001b[0m\n\u001b[1;32m      4\u001b[0m \u001b[0;32mwith\u001b[0m \u001b[0mopen\u001b[0m\u001b[0;34m(\u001b[0m\u001b[0;34m'out.json'\u001b[0m\u001b[0;34m,\u001b[0m \u001b[0;34m'w'\u001b[0m\u001b[0;34m)\u001b[0m \u001b[0;32mas\u001b[0m \u001b[0mfp\u001b[0m\u001b[0;34m:\u001b[0m\u001b[0;34m\u001b[0m\u001b[0m\n\u001b[0;32m----> 5\u001b[0;31m     \u001b[0mjson\u001b[0m\u001b[0;34m.\u001b[0m\u001b[0mdump\u001b[0m\u001b[0;34m(\u001b[0m\u001b[0mtest\u001b[0m\u001b[0;34m,\u001b[0m \u001b[0mfp\u001b[0m\u001b[0;34m)\u001b[0m\u001b[0;34m\u001b[0m\u001b[0m\n\u001b[0m",
      "\u001b[0;32m/home/lucas/anaconda2/envs/football/lib/python2.7/json/__init__.pyc\u001b[0m in \u001b[0;36mdump\u001b[0;34m(obj, fp, skipkeys, ensure_ascii, check_circular, allow_nan, cls, indent, separators, encoding, default, sort_keys, **kw)\u001b[0m\n\u001b[1;32m    187\u001b[0m     \u001b[0;31m# could accelerate with writelines in some versions of Python, at\u001b[0m\u001b[0;34m\u001b[0m\u001b[0;34m\u001b[0m\u001b[0m\n\u001b[1;32m    188\u001b[0m     \u001b[0;31m# a debuggability cost\u001b[0m\u001b[0;34m\u001b[0m\u001b[0;34m\u001b[0m\u001b[0m\n\u001b[0;32m--> 189\u001b[0;31m     \u001b[0;32mfor\u001b[0m \u001b[0mchunk\u001b[0m \u001b[0;32min\u001b[0m \u001b[0miterable\u001b[0m\u001b[0;34m:\u001b[0m\u001b[0;34m\u001b[0m\u001b[0m\n\u001b[0m\u001b[1;32m    190\u001b[0m         \u001b[0mfp\u001b[0m\u001b[0;34m.\u001b[0m\u001b[0mwrite\u001b[0m\u001b[0;34m(\u001b[0m\u001b[0mchunk\u001b[0m\u001b[0;34m)\u001b[0m\u001b[0;34m\u001b[0m\u001b[0m\n\u001b[1;32m    191\u001b[0m \u001b[0;34m\u001b[0m\u001b[0m\n",
      "\u001b[0;32m/home/lucas/anaconda2/envs/football/lib/python2.7/json/encoder.pyc\u001b[0m in \u001b[0;36m_iterencode\u001b[0;34m(o, _current_indent_level)\u001b[0m\n\u001b[1;32m    432\u001b[0m                 \u001b[0;32myield\u001b[0m \u001b[0mchunk\u001b[0m\u001b[0;34m\u001b[0m\u001b[0m\n\u001b[1;32m    433\u001b[0m         \u001b[0;32melif\u001b[0m \u001b[0misinstance\u001b[0m\u001b[0;34m(\u001b[0m\u001b[0mo\u001b[0m\u001b[0;34m,\u001b[0m \u001b[0mdict\u001b[0m\u001b[0;34m)\u001b[0m\u001b[0;34m:\u001b[0m\u001b[0;34m\u001b[0m\u001b[0m\n\u001b[0;32m--> 434\u001b[0;31m             \u001b[0;32mfor\u001b[0m \u001b[0mchunk\u001b[0m \u001b[0;32min\u001b[0m \u001b[0m_iterencode_dict\u001b[0m\u001b[0;34m(\u001b[0m\u001b[0mo\u001b[0m\u001b[0;34m,\u001b[0m \u001b[0m_current_indent_level\u001b[0m\u001b[0;34m)\u001b[0m\u001b[0;34m:\u001b[0m\u001b[0;34m\u001b[0m\u001b[0m\n\u001b[0m\u001b[1;32m    435\u001b[0m                 \u001b[0;32myield\u001b[0m \u001b[0mchunk\u001b[0m\u001b[0;34m\u001b[0m\u001b[0m\n\u001b[1;32m    436\u001b[0m         \u001b[0;32melse\u001b[0m\u001b[0;34m:\u001b[0m\u001b[0;34m\u001b[0m\u001b[0m\n",
      "\u001b[0;32m/home/lucas/anaconda2/envs/football/lib/python2.7/json/encoder.pyc\u001b[0m in \u001b[0;36m_iterencode_dict\u001b[0;34m(dct, _current_indent_level)\u001b[0m\n\u001b[1;32m    380\u001b[0m                 \u001b[0;32mcontinue\u001b[0m\u001b[0;34m\u001b[0m\u001b[0m\n\u001b[1;32m    381\u001b[0m             \u001b[0;32melse\u001b[0m\u001b[0;34m:\u001b[0m\u001b[0;34m\u001b[0m\u001b[0m\n\u001b[0;32m--> 382\u001b[0;31m                 \u001b[0;32mraise\u001b[0m \u001b[0mTypeError\u001b[0m\u001b[0;34m(\u001b[0m\u001b[0;34m\"key \"\u001b[0m \u001b[0;34m+\u001b[0m \u001b[0mrepr\u001b[0m\u001b[0;34m(\u001b[0m\u001b[0mkey\u001b[0m\u001b[0;34m)\u001b[0m \u001b[0;34m+\u001b[0m \u001b[0;34m\" is not a string\"\u001b[0m\u001b[0;34m)\u001b[0m\u001b[0;34m\u001b[0m\u001b[0m\n\u001b[0m\u001b[1;32m    383\u001b[0m             \u001b[0;32mif\u001b[0m \u001b[0mfirst\u001b[0m\u001b[0;34m:\u001b[0m\u001b[0;34m\u001b[0m\u001b[0m\n\u001b[1;32m    384\u001b[0m                 \u001b[0mfirst\u001b[0m \u001b[0;34m=\u001b[0m \u001b[0mFalse\u001b[0m\u001b[0;34m\u001b[0m\u001b[0m\n",
      "\u001b[0;31mTypeError\u001b[0m: key (u'West Bromwich Albion', u'Sunderland') is not a string"
     ]
    }
   ],
   "source": [
    "import json\n",
    "test = season_links(\"2015\")\n",
    "test\n",
    "with open('out.json', 'w') as fp:\n",
    "    json.dump(test, fp)"
   ]
  },
  {
   "cell_type": "code",
   "execution_count": 34,
   "metadata": {
    "collapsed": true
   },
   "outputs": [],
   "source": [
    "def match_stats(link):\n",
    "    resultsPage = urllib.urlopen(link)\n",
    "    resultsPageSoup = BeautifulSoup(resultsPage)\n",
    "\n",
    "    #overall statistics\n",
    "    match_stats = {}\n",
    "    possession = resultsPageSoup.findAll('div', {'id':'summary_possessions'})[0].findAll('svg', {'class': 'doughnut_chart'})[0].text\n",
    "    match_stats['home_possession'] = float(possession.split('%')[0])\n",
    "    match_stats['away_possession'] = float(possession.split('%')[1])\n",
    "    \n",
    "    \n",
    "    match_stats['home_pass_cmplt'] = int(resultsPageSoup.findAll('div', {'id':'summary_passes'})[0].findAll('text', {'fill': \"#FCD800\"})[0].next)\n",
    "    match_stats['away_pass_cmplt'] = int(resultsPageSoup.findAll('div', {'id':'summary_passes'})[0].findAll('text', {'fill': \"#E6E6E6\"})[0].next)\n",
    "\n",
    "    match_stats['home_crnr'] = int(resultsPageSoup.findAll('div', {'id':'summary_corners'})[0].findAll('text', {'fill': \"#FCD800\"})[0].next)\n",
    "    match_stats['away_crnr'] = int(resultsPageSoup.findAll('div', {'id':'summary_corners'})[0].findAll('text', {'fill': \"#E6E6E6\"})[0].next)\n",
    "\n",
    "    match_stats['home_attck_pass'] = int(resultsPageSoup.findAll('div', {'id':'summary_attacking'})[0].findAll('text', {'fill': \"#FCD800\"})[0].next)\n",
    "    match_stats['away_attck_pass']= int(resultsPageSoup.findAll('div', {'id':'summary_attacking'})[0].findAll('text', {'fill': \"#E6E6E6\"})[0].next)\n",
    "\n",
    "    match_stats['home_shots'] = int(resultsPageSoup.findAll('div', {'id':'summary_shots'})[0].findAll('text', {'fill': \"#FCD800\"})[0].next)\n",
    "    match_stats['away_shots'] = int(resultsPageSoup.findAll('div', {'id':'summary_shots'})[0].findAll('text', {'fill': \"#E6E6E6\"})[0].next)\n",
    "\n",
    "    match_stats['home_fouls'] = int(resultsPageSoup.findAll('div', {'id':'summary_fouls'})[0].findAll('text', {'fill': \"#FCD800\"})[0].next)\n",
    "    match_stats['away_fouls'] = int(resultsPageSoup.findAll('div', {'id':'summary_fouls'})[0].findAll('text', {'fill': \"#E6E6E6\"})[0].next)\n",
    "\n",
    "    match_stats['date_location'] = resultsPageSoup.findAll('div', {'class': 'teams'})[0].next.strip()\n",
    "    \n",
    "    match_stats['date'] = match_stats['date_location'].split(',')[-2]\n",
    "    match_stats['time'] = match_stats['date_location'].split('-')[-1]\n",
    "    return(match_stats)\n"
   ]
  },
  {
   "cell_type": "code",
   "execution_count": 35,
   "metadata": {
    "collapsed": false
   },
   "outputs": [],
   "source": [
    "stats_test = match_stats(links[1])"
   ]
  },
  {
   "cell_type": "code",
   "execution_count": 36,
   "metadata": {
    "collapsed": false
   },
   "outputs": [
    {
     "data": {
      "text/plain": [
       "{'away_attck_pass': 86,\n",
       " 'away_crnr': 4,\n",
       " 'away_fouls': 6,\n",
       " 'away_pass_cmplt': 334,\n",
       " 'away_possession': 40.4,\n",
       " 'away_shots': 5,\n",
       " 'date': u' May 15',\n",
       " 'date_location': u'Emirates Stadium London, Sunday, May 15, 2016 - 15:00',\n",
       " 'home_attck_pass': 283,\n",
       " 'home_crnr': 5,\n",
       " 'home_fouls': 12,\n",
       " 'home_pass_cmplt': 537,\n",
       " 'home_possession': 59.6,\n",
       " 'home_shots': 16,\n",
       " 'time': u' 15:00'}"
      ]
     },
     "execution_count": 36,
     "metadata": {},
     "output_type": "execute_result"
    }
   ],
   "source": [
    "stats_test"
   ]
  },
  {
   "cell_type": "code",
   "execution_count": null,
   "metadata": {
    "collapsed": true
   },
   "outputs": [],
   "source": [
    "posession"
   ]
  },
  {
   "cell_type": "code",
   "execution_count": 6,
   "metadata": {
    "collapsed": false
   },
   "outputs": [],
   "source": [
    "def player_links(game_link):\n",
    "    url = game_link + '/player-stats#tabs-wrapper-anchor'\n",
    "    r = Render(url)\n",
    "    result = r.frame.toHtml()\n",
    "    formatted_result = str(result.toAscii())\n",
    "    soup = BeautifulSoup(formatted_result, 'html5')\n",
    "    player_urls = ['http://www.fourfourtwo.com' + a['href'] \n",
    "               for a in soup.findAll('div', {'id':'lineups'})[0].findAll('a')]\n",
    "    player_names = [a.contents\n",
    "               for a in soup.findAll('div', {'id':'lineups'})[0].findAll('a')]\n",
    "    \n",
    "    players = {}\n",
    "    for i in range(len(player_names)):\n",
    "        players[player_names[i][0]] = {\"link\":player_urls[i] }\n",
    "    \n",
    "    return(players)\n"
   ]
  },
  {
   "cell_type": "code",
   "execution_count": 7,
   "metadata": {
    "collapsed": false,
    "scrolled": true
   },
   "outputs": [
    {
     "name": "stderr",
     "output_type": "stream",
     "text": [
      "/home/lucas/anaconda2/envs/football/lib/python2.7/site-packages/bs4/__init__.py:181: UserWarning: No parser was explicitly specified, so I'm using the best available HTML parser for this system (\"html5lib\"). This usually isn't a problem, but if you run this code on another system, or in a different virtual environment, it may use a different parser and behave differently.\n",
      "\n",
      "The code that caused this warning is on line 174 of the file /home/lucas/anaconda2/envs/football/lib/python2.7/runpy.py. To get rid of this warning, change code that looks like this:\n",
      "\n",
      " BeautifulSoup([your markup])\n",
      "\n",
      "to this:\n",
      "\n",
      " BeautifulSoup([your markup], \"html5lib\")\n",
      "\n",
      "  markup_type=markup_type))\n"
     ]
    }
   ],
   "source": [
    "players = player_links(links[1])"
   ]
  },
  {
   "cell_type": "code",
   "execution_count": 5,
   "metadata": {
    "collapsed": true
   },
   "outputs": [],
   "source": [
    "def player_stats(url):\n",
    "    #\n",
    "    playerPage = Render(url)\n",
    "    playerPageRendered = playerPage.frame.toHtml()\n",
    "    playerPageFormatted = str(playerPageRendered.toAscii())\n",
    "    playerSoup = BeautifulSoup(playerPageFormatted, 'html5')\n",
    "    \n",
    "    match_stats = {}\n",
    "    #passes\n",
    "    match_stats['pass_success'] = len(playerSoup.findAll('line', {'marker-end': 'url(#smallblue)'}))\n",
    "    match_stats['pass_fail'] = len(playerSoup.findAll('line', {'marker-end': 'url(#smallred)'}))\n",
    "    match_stats['chances'] = len(playerSoup.findAll('line', {'marker-end': 'url(#smalldeepskyblue)'}))\n",
    "    match_stats['assists'] = len(playerSoup.findAll('line', {'marker-end': 'url(#smallyellow)'}))\n",
    "\n",
    "    #shots\n",
    "    match_stats['on_target'] = len(playerSoup.findAll('line', {'marker-end': 'url(#bigblueend)'}))\n",
    "    match_stats['off_target'] = len(playerSoup.findAll('line', {'marker-end': 'url(#bigredend)'}))\n",
    "    match_stats['on_target'] = len(playerSoup.findAll('line', {'marker-end': 'url(#bigblueend)'}))\n",
    "    match_stats['goals'] = len(playerSoup.findAll('line', {'marker-start': 'url(#bigyellowend)'}))\n",
    "\n",
    "    #takeons\n",
    "    match_stats['takeon_success'] = len(playerSoup.findAll('image', {'href': '/sites/fourfourtwo.com/modules/custom/statzone/files/icons/success.png'}))\n",
    "    match_stats['takeon_fail'] = len(playerSoup.findAll('image', {'href': '/sites/fourfourtwo.com/modules/custom/statzone/files/icons/fail.png'}))\n",
    "\n",
    "    #defensive\n",
    "    match_stats['fail_tkl'] = len(playerSoup.findAll('image', {'href': '/sites/fourfourtwo.com/modules/custom/statzone/files/icons/failed_tackle.png'}))\n",
    "    match_stats['success_tkl'] = len(playerSoup.findAll('image', {'href': '/sites/fourfourtwo.com/modules/custom/statzone/files/icons/successful_tackle.png'}))\n",
    "    match_stats['success_clearence'] = len(playerSoup.findAll('image', {'href': '/sites/fourfourtwo.com/modules/custom/statzone/files/icons/successful_clearence.png'}))\n",
    "    match_stats['failed_clearence'] = len(playerSoup.findAll('image', {'href': '/sites/fourfourtwo.com/modules/custom/statzone/files/icons/failed_clearence.png'}))\n",
    "    match_stats['interception'] = len(playerSoup.findAll('image', {'href': '/sites/fourfourtwo.com/modules/custom/statzone/files/icons/interceptions.png'}))\n",
    "    match_stats['ball_recovery'] = len(playerSoup.findAll('image', {'href': '/sites/fourfourtwo.com/modules/custom/statzone/files/icons/defensive-ball-clearence.png'}))\n",
    "    match_stats['blocks'] = len(playerSoup.findAll('image', {'href': '/sites/fourfourtwo.com/modules/custom/statzone/files/icons/blocks.png'}))\n",
    "    match_stats['blocks_cross'] = len(playerSoup.findAll('image', {'href': '/sites/fourfourtwo.com/modules/custom/statzone/files/icons/blocks-cross.png'}))\n",
    "\n",
    "    #aerial\n",
    "    match_stats['aerial_won'] = len(playerSoup.findAll('image', {'href': '/sites/fourfourtwo.com/modules/custom/statzone/files/icons/won.png'}))\n",
    "    match_stats['aerial_lost'] = len(playerSoup.findAll('image', {'href': '/sites/fourfourtwo.com/modules/custom/statzone/files/icons/lost.png'}))\n",
    "\n",
    "    #fouls\n",
    "    match_stats['foul_cmt'] = len(playerSoup.findAll('image', {'href': '/sites/fourfourtwo.com/modules/custom/statzone/files/icons/commited.png'}))\n",
    "    match_stats['foul_sfr'] = len(playerSoup.findAll('image', {'href': '/sites/fourfourtwo.com/modules/custom/statzone/files/icons/suffered.png'}))\n",
    "\n",
    "    #errors\n",
    "    match_stats['error_goal'] = len(playerSoup.findAll('image', {'href': '/sites/fourfourtwo.com/modules/custom/statzone/files/icons/error-leading-goal.png'}))\n",
    "    match_stats['error_shot'] = len(playerSoup.findAll('image', {'href': '/sites/fourfourtwo.com/modules/custom/statzone/files/icons/error-leading-shot.png'}))\n",
    "    \n",
    "    return(match_stats)\n",
    "    \n",
    "    \n",
    "    "
   ]
  },
  {
   "cell_type": "code",
   "execution_count": null,
   "metadata": {
    "collapsed": false
   },
   "outputs": [],
   "source": [
    "url = players['Gueye']['link']"
   ]
  },
  {
   "cell_type": "code",
   "execution_count": 6,
   "metadata": {
    "collapsed": false,
    "scrolled": true
   },
   "outputs": [
    {
     "name": "stderr",
     "output_type": "stream",
     "text": [
      "/home/lucas/anaconda2/envs/football/lib/python2.7/site-packages/bs4/__init__.py:181: UserWarning: No parser was explicitly specified, so I'm using the best available HTML parser for this system (\"html5lib\"). This usually isn't a problem, but if you run this code on another system, or in a different virtual environment, it may use a different parser and behave differently.\n",
      "\n",
      "The code that caused this warning is on line 174 of the file /home/lucas/anaconda2/envs/football/lib/python2.7/runpy.py. To get rid of this warning, change code that looks like this:\n",
      "\n",
      " BeautifulSoup([your markup])\n",
      "\n",
      "to this:\n",
      "\n",
      " BeautifulSoup([your markup], \"html5lib\")\n",
      "\n",
      "  markup_type=markup_type))\n"
     ]
    }
   ],
   "source": [
    "stats = player_stats('http://www.fourfourtwo.com/statszone/8-2015/matches/803532/player-stats/80801/OVERALL_02#tabs-wrapper-anchor')"
   ]
  },
  {
   "cell_type": "code",
   "execution_count": 7,
   "metadata": {
    "collapsed": false
   },
   "outputs": [
    {
     "data": {
      "text/plain": [
       "{'aerial_lost': 0,\n",
       " 'aerial_won': 0,\n",
       " 'assists': 0,\n",
       " 'ball_recovery': 0,\n",
       " 'blocks': 0,\n",
       " 'blocks_cross': 0,\n",
       " 'chances': 1,\n",
       " 'error_goal': 0,\n",
       " 'error_shot': 0,\n",
       " 'fail_tkl': 0,\n",
       " 'failed_clearence': 0,\n",
       " 'foul_cmt': 2,\n",
       " 'foul_sfr': 1,\n",
       " 'goals': 0,\n",
       " 'interception': 1,\n",
       " 'off_target': 0,\n",
       " 'on_target': 0,\n",
       " 'pass_fail': 7,\n",
       " 'pass_success': 53,\n",
       " 'success_clearence': 0,\n",
       " 'success_tkl': 2,\n",
       " 'takeon_fail': 2,\n",
       " 'takeon_success': 2}"
      ]
     },
     "execution_count": 7,
     "metadata": {},
     "output_type": "execute_result"
    }
   ],
   "source": [
    "stats"
   ]
  },
  {
   "cell_type": "code",
   "execution_count": 10,
   "metadata": {
    "collapsed": false
   },
   "outputs": [
    {
     "data": {
      "text/plain": [
       "0"
      ]
     },
     "execution_count": 10,
     "metadata": {},
     "output_type": "execute_result"
    }
   ],
   "source": [
    "len(stats['aerial_lost'])"
   ]
  },
  {
   "cell_type": "code",
   "execution_count": 6,
   "metadata": {
    "collapsed": false
   },
   "outputs": [
    {
     "name": "stderr",
     "output_type": "stream",
     "text": [
      "/home/lucas/anaconda2/envs/football/lib/python2.7/site-packages/bs4/__init__.py:181: UserWarning: No parser was explicitly specified, so I'm using the best available HTML parser for this system (\"html5lib\"). This usually isn't a problem, but if you run this code on another system, or in a different virtual environment, it may use a different parser and behave differently.\n",
      "\n",
      "The code that caused this warning is on line 174 of the file /home/lucas/anaconda2/envs/football/lib/python2.7/runpy.py. To get rid of this warning, change code that looks like this:\n",
      "\n",
      " BeautifulSoup([your markup])\n",
      "\n",
      "to this:\n",
      "\n",
      " BeautifulSoup([your markup], \"html5lib\")\n",
      "\n",
      "  markup_type=markup_type))\n"
     ]
    }
   ],
   "source": [
    "playerPage = Render('http://www.fourfourtwo.com/statszone/8-2015/matches/803532/player-stats/80801/OVERALL_02#tabs-wrapper-anchor')\n",
    "playerPageRendered = playerPage.frame.toHtml()\n",
    "playerPageFormatted = str(playerPageRendered.toAscii())\n",
    "playerSoup = BeautifulSoup(playerPageFormatted, 'html5')"
   ]
  },
  {
   "cell_type": "code",
   "execution_count": null,
   "metadata": {
    "collapsed": true
   },
   "outputs": [],
   "source": []
  },
  {
   "cell_type": "code",
   "execution_count": null,
   "metadata": {
    "collapsed": true
   },
   "outputs": [],
   "source": [
    "\n",
    "#\n",
    "playerPage = Render(url)\n",
    "playerPageRendered = playerPage.frame.toHtml()\n",
    "playerPageFormatted = str(playerPageRendered.toAscii())\n",
    "playerSoup = BeautifulSoup(playerPageFormatted, 'html5')\n",
    "\n",
    "match_stats = {}\n",
    "#passes\n",
    "match_stats['pass_success'] = playerSoup.findAll('line', {'marker-end': 'url(#smallblue)'})\n",
    "match_stats['pass_fail'] = playerSoup.findAll('line', {'marker-end': 'url(#smallred)'})\n",
    "match_stats['chances'] = playerSoup.findAll('line', {'marker-end': 'url(#smalldeepskyblue)'})\n",
    "match_stats['assists'] = playerSoup.findAll('line', {'marker-end': 'url(#smallyellow)'})\n",
    "\n",
    "#shots\n",
    "match_stats['on_target'] = playerSoup.findAll('line', {'marker-end': 'url(#bigblueend)'})\n",
    "match_stats['off_target'] = playerSoup.findAll('line', {'marker-end': 'url(#bigredend)'})\n",
    "match_stats['on_target'] = playerSoup.findAll('line', {'marker-end': 'url(#bigblueend)'})\n",
    "match_stats['goals'] = playerSoup.findAll('line', {'marker-start': 'url(#bigyellowend)'})\n",
    "\n",
    "#takeons\n",
    "match_stats['takeon_success'] = playerSoup.findAll('image', {'href': '/sites/fourfourtwo.com/modules/custom/statzone/files/icons/success.png'})\n",
    "match_stats['takeon_fail'] = playerSoup.findAll('image', {'href': '/sites/fourfourtwo.com/modules/custom/statzone/files/icons/fail.png'})\n",
    "\n",
    "#defensive\n",
    "match_stats['fail_tkl'] = playerSoup.findAll('image', {'href': '/sites/fourfourtwo.com/modules/custom/statzone/files/icons/failed_tackle.png'})\n",
    "match_stats['success_tkl'] = playerSoup.findAll('image', {'href': '/sites/fourfourtwo.com/modules/custom/statzone/files/icons/successful_tackle.png'})\n",
    "match_stats['success_clearence'] = playerSoup.findAll('image', {'href': '/sites/fourfourtwo.com/modules/custom/statzone/files/icons/successful_clearence.png'})\n",
    "match_stats['failed_clearence'] = playerSoup.findAll('image', {'href': '/sites/fourfourtwo.com/modules/custom/statzone/files/icons/failed_clearence.png'})\n",
    "match_stats['interception'] = playerSoup.findAll('image', {'href': '/sites/fourfourtwo.com/modules/custom/statzone/files/icons/interceptions.png'})\n",
    "match_stats['ball_recovery'] = playerSoup.findAll('image', {'href': '/sites/fourfourtwo.com/modules/custom/statzone/files/icons/defensive-ball-clearence.png'})\n",
    "match_stats['blocks'] = playerSoup.findAll('image', {'href': '/sites/fourfourtwo.com/modules/custom/statzone/files/icons/blocks.png'})\n",
    "match_stats['blocks_cross'] = playerSoup.findAll('image', {'href': '/sites/fourfourtwo.com/modules/custom/statzone/files/icons/blocks-cross.png'})\n",
    "\n",
    "#aerial\n",
    "match_stats['aerial_won'] = playerSoup.findAll('image', {'href': '/sites/fourfourtwo.com/modules/custom/statzone/files/icons/won.png'})\n",
    "match_stats['aerial_lost'] = playerSoup.findAll('image', {'href': '/sites/fourfourtwo.com/modules/custom/statzone/files/icons/lost.png'})\n",
    "\n",
    "#fouls\n",
    "match_stats['foul_cmt'] = playerSoup.findAll('image', {'href': '/sites/fourfourtwo.com/modules/custom/statzone/files/icons/commited.png'})\n",
    "match_stats['foul_sfr'] = playerSoup.findAll('image', {'href': '/sites/fourfourtwo.com/modules/custom/statzone/files/icons/suffered.png'})\n",
    "\n",
    "#errors\n",
    "match_stats['error_goal'] = playerSoup.findAll('image', {'href': '/sites/fourfourtwo.com/modules/custom/statzone/files/icons/error-leading-goal.png'})\n",
    "match_stats['error_shot'] = playerSoup.findAll('image', {'href': '/sites/fourfourtwo.com/modules/custom/statzone/files/icons/error-leading-shot.png'})\n",
    "\n",
    "\n",
    "\n"
   ]
  },
  {
   "cell_type": "code",
   "execution_count": 7,
   "metadata": {
    "collapsed": false
   },
   "outputs": [
    {
     "data": {
      "text/plain": [
       "u'Gueye'"
      ]
     },
     "execution_count": 7,
     "metadata": {},
     "output_type": "execute_result"
    }
   ],
   "source": [
    "players.keys()[1]"
   ]
  },
  {
   "cell_type": "code",
   "execution_count": null,
   "metadata": {
    "collapsed": false
   },
   "outputs": [],
   "source": [
    "stats = player_stats(players['Gueye']['link'])"
   ]
  },
  {
   "cell_type": "code",
   "execution_count": 3,
   "metadata": {
    "collapsed": false
   },
   "outputs": [
    {
     "name": "stderr",
     "output_type": "stream",
     "text": [
      "/Users/lucaslafone/anaconda/envs/MLlib/lib/python2.7/site-packages/bs4/__init__.py:166: UserWarning: No parser was explicitly specified, so I'm using the best available HTML parser for this system (\"html5lib\"). This usually isn't a problem, but if you run this code on another system, or in a different virtual environment, it may use a different parser and behave differently.\n",
      "\n",
      "To get rid of this warning, change this:\n",
      "\n",
      " BeautifulSoup([your markup])\n",
      "\n",
      "to this:\n",
      "\n",
      " BeautifulSoup([your markup], \"html5lib\")\n",
      "\n",
      "  markup_type=markup_type))\n"
     ]
    }
   ],
   "source": [
    "url = 'http://www.fourfourtwo.com/statszone/8-2015/matches/803532/player-stats/37265/OVERALL_02#tabs-wrapper-anchor'\n",
    "playerPage = Render(url)\n",
    "playerPageRendered = playerPage.frame.toHtml()\n",
    "playerPageFormatted = str(playerPageRendered.toAscii())\n",
    "playerSoup = BeautifulSoup(playerPageFormatted, 'html5')\n"
   ]
  },
  {
   "cell_type": "code",
   "execution_count": 5,
   "metadata": {
    "collapsed": false
   },
   "outputs": [
    {
     "data": {
      "text/plain": [
       "[<line class=\"pitch-object timer-1-4\" marker-end=\"url(#bigyellow)\" marker-start=\"url(#bigyellowend)\" style=\"stroke:yellow;stroke-width:3\" x1=\"621.16\" x2=\"692\" y1=\"258.095\" y2=\"246.139\"></line>,\n",
       " <line class=\"pitch-object timer-2-77\" marker-end=\"url(#bigyellow)\" marker-start=\"url(#bigyellowend)\" style=\"stroke:yellow;stroke-width:3\" x1=\"658.512\" x2=\"692\" y1=\"230.34\" y2=\"264.073\"></line>,\n",
       " <line class=\"pitch-object timer-2-79\" marker-end=\"url(#bigyellow)\" marker-start=\"url(#bigyellowend)\" style=\"stroke:yellow;stroke-width:3\" x1=\"643.7\" x2=\"692\" y1=\"234.183\" y2=\"255.96\"></line>]"
      ]
     },
     "execution_count": 5,
     "metadata": {},
     "output_type": "execute_result"
    }
   ],
   "source": [
    "soup.findAll('line', {'marker-start': 'url(#bigyellowend)'})"
   ]
  },
  {
   "cell_type": "code",
   "execution_count": 4,
   "metadata": {
    "collapsed": false
   },
   "outputs": [
    {
     "data": {
      "text/plain": [
       "[]"
      ]
     },
     "execution_count": 4,
     "metadata": {},
     "output_type": "execute_result"
    }
   ],
   "source": [
    "soup.findAll('image', {'xlink:href': '/sites/fourfourtwo.com/modules/custom/statzone/files/icons/success.png'})"
   ]
  },
  {
   "cell_type": "code",
   "execution_count": 15,
   "metadata": {
    "collapsed": false
   },
   "outputs": [
    {
     "data": {
      "text/plain": [
       "4"
      ]
     },
     "execution_count": 15,
     "metadata": {},
     "output_type": "execute_result"
    }
   ],
   "source": [
    "len(chances)"
   ]
  },
  {
   "cell_type": "code",
   "execution_count": 5,
   "metadata": {
    "collapsed": false
   },
   "outputs": [],
   "source": [
    "\n",
    "#passes\n",
    "pass_success = playerSoup.findAll('line', {'marker-end': 'url(#smallblue)'})\n",
    "pass_fail = playerSoup.findAll('line', {'marker-end': 'url(#smallred)'})\n",
    "chances = playerSoup.findAll('line', {'marker-end': 'url(#smalldeepskyblue)'})\n",
    "assists = playerSoup.findAll('line', {'marker-end': 'url(#smallyellow)'})\n",
    "\n",
    "#shots\n",
    "on_target = playerSoup.findAll('line', {'marker-end': 'url(#bigblueend)'})\n",
    "off_target = playerSoup.findAll('line', {'marker-end': 'url(#bigredend)'})\n",
    "on_target = playerSoup.findAll('line', {'marker-end': 'url(#bigblueend)'})\n",
    "goals = playerSoup.findAll('line', {'marker-start': 'url(#bigyellowend)'})\n",
    "\n",
    "#takeons\n",
    "takeon_success = playerSoup.findAll('image', {'href': '/sites/fourfourtwo.com/modules/custom/statzone/files/icons/success.png'})\n",
    "takeon_fail = playerSoup.findAll('image', {'href': '/sites/fourfourtwo.com/modules/custom/statzone/files/icons/fail.png'})\n",
    "\n",
    "#defensive\n",
    "fail_tkl = playerSoup.findAll('image', {'href': '/sites/fourfourtwo.com/modules/custom/statzone/files/icons/failed_tackle.png'})\n",
    "success_tkl = playerSoup.findAll('image', {'href': '/sites/fourfourtwo.com/modules/custom/statzone/files/icons/successful_tackle.png'})\n",
    "success_clearence = playerSoup.findAll('image', {'href': '/sites/fourfourtwo.com/modules/custom/statzone/files/icons/successful_clearence.png'})\n",
    "failed_clearence = playerSoup.findAll('image', {'href': '/sites/fourfourtwo.com/modules/custom/statzone/files/icons/failed_clearence.png'})\n",
    "interception = playerSoup.findAll('image', {'href': '/sites/fourfourtwo.com/modules/custom/statzone/files/icons/interceptions.png'})\n",
    "ball_recovery = playerSoup.findAll('image', {'href': '/sites/fourfourtwo.com/modules/custom/statzone/files/icons/defensive-ball-clearence.png'})\n",
    "blocks = playerSoup.findAll('image', {'href': '/sites/fourfourtwo.com/modules/custom/statzone/files/icons/blocks.png'})\n",
    "blocks_cross = playerSoup.findAll('image', {'href': '/sites/fourfourtwo.com/modules/custom/statzone/files/icons/blocks-cross.png'})\n",
    "\n",
    "#aerial\n",
    "aerial_won = playerSoup.findAll('image', {'href': '/sites/fourfourtwo.com/modules/custom/statzone/files/icons/won.png'})\n",
    "aerial_lost = playerSoup.findAll('image', {'href': '/sites/fourfourtwo.com/modules/custom/statzone/files/icons/lost.png'})\n",
    "\n",
    "#fouls\n",
    "foul_cmt = playerSoup.findAll('image', {'href': '/sites/fourfourtwo.com/modules/custom/statzone/files/icons/commited.png'})\n",
    "foul_sfr = playerSoup.findAll('image', {'href': '/sites/fourfourtwo.com/modules/custom/statzone/files/icons/suffered.png'})\n",
    "\n",
    "#errors\n",
    "error_goal = playerSoup.findAll('image', {'href': '/sites/fourfourtwo.com/modules/custom/statzone/files/icons/error-leading-goal.png'})\n",
    "error_shot = playerSoup.findAll('image', {'href': '/sites/fourfourtwo.com/modules/custom/statzone/files/icons/error-leading-shot.png'})\n"
   ]
  },
  {
   "cell_type": "code",
   "execution_count": 7,
   "metadata": {
    "collapsed": false
   },
   "outputs": [
    {
     "data": {
      "text/plain": [
       "42"
      ]
     },
     "execution_count": 7,
     "metadata": {},
     "output_type": "execute_result"
    }
   ],
   "source": [
    "len(goals)\n",
    "len(pass_success)"
   ]
  },
  {
   "cell_type": "code",
   "execution_count": 39,
   "metadata": {
    "collapsed": false
   },
   "outputs": [
    {
     "data": {
      "text/plain": [
       "[<image height=\"529\" width=\"740\" x=\"0\" xlink:href=\"/sites/fourfourtwo.com/modules/custom/statzone/files/statszone_football_pitch.png\" y=\"0\"></image>]"
      ]
     },
     "execution_count": 39,
     "metadata": {},
     "output_type": "execute_result"
    }
   ],
   "source": []
  },
  {
   "cell_type": "code",
   "execution_count": null,
   "metadata": {
    "collapsed": true
   },
   "outputs": [],
   "source": []
  }
 ],
 "metadata": {
  "anaconda-cloud": {},
  "kernelspec": {
   "display_name": "Python [conda env:football]",
   "language": "python",
   "name": "conda-env-football-py"
  },
  "language_info": {
   "codemirror_mode": {
    "name": "ipython",
    "version": 2
   },
   "file_extension": ".py",
   "mimetype": "text/x-python",
   "name": "python",
   "nbconvert_exporter": "python",
   "pygments_lexer": "ipython2",
   "version": "2.7.13"
  }
 },
 "nbformat": 4,
 "nbformat_minor": 0
}
