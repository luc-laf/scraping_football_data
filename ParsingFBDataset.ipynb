{
 "cells": [
  {
   "cell_type": "code",
   "execution_count": 1,
   "metadata": {
    "collapsed": false
   },
   "outputs": [],
   "source": [
    "from bs4 import BeautifulSoup\n",
    "import urllib\n",
    "import sys  \n",
    "from PyQt4.QtGui import *  \n",
    "from PyQt4.QtCore import *  \n",
    "from PyQt4.QtWebKit import *  \n",
    "from lxml import html "
   ]
  },
  {
   "cell_type": "code",
   "execution_count": 20,
   "metadata": {
    "collapsed": false
   },
   "outputs": [],
   "source": [
    "#class for rendering js pages for use with BS\n",
    "class Render(QWebPage):  \n",
    "    def __init__(self, url):  \n",
    "        self.app = QApplication(sys.argv)  \n",
    "        QWebPage.__init__(self)  \n",
    "        self.loadFinished.connect(self._loadFinished)  \n",
    "        self.mainFrame().load(QUrl(url))  \n",
    "        self.app.exec_()  \n",
    "  \n",
    "    def _loadFinished(self, result):  \n",
    "        self.frame = self.mainFrame()  \n",
    "        self.app.quit() "
   ]
  },
  {
   "cell_type": "code",
   "execution_count": 21,
   "metadata": {
    "collapsed": false,
    "scrolled": true
   },
   "outputs": [],
   "source": [
    "#list of all mathces in list links\n",
    "def season_links(year):\n",
    "    resultsPage = urllib.urlopen(\"http://www.fourfourtwo.com/statszone/results/8-\" + year)\n",
    "    resultsPageSoup = BeautifulSoup(resultsPage)\n",
    "    scores = resultsPageSoup.findAll('td', {'class': 'score'})\n",
    "    homeTeams = resultsPageSoup.findAll('td', {'class': 'home-team'})\n",
    "    awayTeams = resultsPageSoup.findAll('td', {'class': 'away-team'})\n",
    "    gamesStatsLinks = ['http://www.fourfourtwo.com' + \n",
    "                       l.a['href'] for l in resultsPageSoup.findAll('td', {'class': 'link-to-match'})]\n",
    "    return(gamesStatsLinks)"
   ]
  },
  {
   "cell_type": "code",
   "execution_count": 6,
   "metadata": {
    "collapsed": false
   },
   "outputs": [
    {
     "ename": "NameError",
     "evalue": "name 'links' is not defined",
     "output_type": "error",
     "traceback": [
      "\u001b[0;31m---------------------------------------------------------------------------\u001b[0m",
      "\u001b[0;31mNameError\u001b[0m                                 Traceback (most recent call last)",
      "\u001b[0;32m<ipython-input-6-68b0a9568587>\u001b[0m in \u001b[0;36m<module>\u001b[0;34m()\u001b[0m\n\u001b[0;32m----> 1\u001b[0;31m \u001b[0mlinks\u001b[0m\u001b[0;34m[\u001b[0m\u001b[0;36m1\u001b[0m\u001b[0;34m]\u001b[0m\u001b[0;34m\u001b[0m\u001b[0m\n\u001b[0m",
      "\u001b[0;31mNameError\u001b[0m: name 'links' is not defined"
     ]
    }
   ],
   "source": [
    "links[1]"
   ]
  },
  {
   "cell_type": "code",
   "execution_count": 8,
   "metadata": {
    "collapsed": false,
    "scrolled": true
   },
   "outputs": [
    {
     "name": "stderr",
     "output_type": "stream",
     "text": [
      "/Users/lucaslafone/anaconda/envs/MLlib/lib/python2.7/site-packages/bs4/__init__.py:166: UserWarning: No parser was explicitly specified, so I'm using the best available HTML parser for this system (\"lxml\"). This usually isn't a problem, but if you run this code on another system, or in a different virtual environment, it may use a different parser and behave differently.\n",
      "\n",
      "To get rid of this warning, change this:\n",
      "\n",
      " BeautifulSoup([your markup])\n",
      "\n",
      "to this:\n",
      "\n",
      " BeautifulSoup([your markup], \"lxml\")\n",
      "\n",
      "  markup_type=markup_type))\n"
     ]
    }
   ],
   "source": [
    "links = season_links('2015')"
   ]
  },
  {
   "cell_type": "code",
   "execution_count": 5,
   "metadata": {
    "collapsed": true
   },
   "outputs": [],
   "source": [
    "def match_stats(link):\n",
    "    resultsPage = urllib.urlopen(link)\n",
    "    resultsPageSoup = BeautifulSoup(resultsPage)\n",
    "\n",
    "    #overall statistics\n",
    "    match_stats = {}\n",
    "    match_stats['possession'] = resultsPageSoup.findAll('div', {'id':'summary_possessions'})[0].findAll('svg', {'class': 'doughnut_chart'})[0].text\n",
    "\n",
    "    match_stats['home_pass_cmplt'] = resultsPageSoup.findAll('div', {'id':'summary_passes'})[0].findAll('text', {'fill': \"#FCD800\"})[0].next\n",
    "    match_stats['away_pass_cmplt'] = resultsPageSoup.findAll('div', {'id':'summary_passes'})[0].findAll('text', {'fill': \"#E6E6E6\"})[0].next\n",
    "\n",
    "    match_stats['home_crnr'] = resultsPageSoup.findAll('div', {'id':'summary_corners'})[0].findAll('text', {'fill': \"#FCD800\"})[0].next\n",
    "    match_stats['away_crnr'] = resultsPageSoup.findAll('div', {'id':'summary_corners'})[0].findAll('text', {'fill': \"#E6E6E6\"})[0].next\n",
    "\n",
    "    match_stats['home_attck_pass'] = resultsPageSoup.findAll('div', {'id':'summary_attacking'})[0].findAll('text', {'fill': \"#FCD800\"})[0].next\n",
    "    away_attck_pass = resultsPageSoup.findAll('div', {'id':'summary_attacking'})[0].findAll('text', {'fill': \"#E6E6E6\"})[0].next\n",
    "\n",
    "    match_stats['home_shots'] = resultsPageSoup.findAll('div', {'id':'summary_shots'})[0].findAll('text', {'fill': \"#FCD800\"})[0].next\n",
    "    match_stats['away_shots'] = resultsPageSoup.findAll('div', {'id':'summary_shots'})[0].findAll('text', {'fill': \"#E6E6E6\"})[0].next\n",
    "\n",
    "    match_stats['home_fouls'] = resultsPageSoup.findAll('div', {'id':'summary_fouls'})[0].findAll('text', {'fill': \"#FCD800\"})[0].next\n",
    "    match_stats['away_fouls'] = resultsPageSoup.findAll('div', {'id':'summary_fouls'})[0].findAll('text', {'fill': \"#E6E6E6\"})[0].next\n",
    "\n",
    "    match_stats['date_location'] = resultsPageSoup.findAll('div', {'class': 'teams'})[0].next.strip()\n",
    "    return(match_stats)\n"
   ]
  },
  {
   "cell_type": "code",
   "execution_count": 6,
   "metadata": {
    "collapsed": false
   },
   "outputs": [],
   "source": [
    "stats_test = match_stats(links[1])"
   ]
  },
  {
   "cell_type": "code",
   "execution_count": 7,
   "metadata": {
    "collapsed": false
   },
   "outputs": [
    {
     "data": {
      "text/plain": [
       "{'away_crnr': u'4',\n",
       " 'away_fouls': u'6',\n",
       " 'away_pass_cmplt': u'334',\n",
       " 'away_shots': u'5',\n",
       " 'date_location': u'Emirates Stadium London, Sunday, May 15, 2016 - 15:00',\n",
       " 'home_attck_pass': u'283',\n",
       " 'home_crnr': u'5',\n",
       " 'home_fouls': u'12',\n",
       " 'home_pass_cmplt': u'537',\n",
       " 'home_shots': u'16',\n",
       " 'possession': u'59.6%40.4%'}"
      ]
     },
     "execution_count": 7,
     "metadata": {},
     "output_type": "execute_result"
    }
   ],
   "source": [
    "stats_test"
   ]
  },
  {
   "cell_type": "code",
   "execution_count": 22,
   "metadata": {
    "collapsed": false
   },
   "outputs": [],
   "source": [
    "def player_links(game_link):\n",
    "    url = game_link + '/player-stats#tabs-wrapper-anchor'\n",
    "    r = Render(url)\n",
    "    result = r.frame.toHtml()\n",
    "    formatted_result = str(result.toAscii())\n",
    "    soup = BeautifulSoup(formatted_result, 'html5')\n",
    "    player_urls = ['http://www.fourfourtwo.com' + a['href'] \n",
    "               for a in soup.findAll('div', {'id':'lineups'})[0].findAll('a')]\n",
    "    player_names = ['http://www.fourfourtwo.com' + a['href'] \n",
    "               for a in soup.findAll('div', {'id':'lineups'})[0].findAll('a')[0].contents]\n",
    "    \n",
    "    players = {}\n",
    "    for i in len(player_names):\n",
    "        players[player_names[i]] = {\"link\":player_urls[i] }\n",
    "    \n",
    "    return(players)\n"
   ]
  },
  {
   "cell_type": "code",
   "execution_count": 23,
   "metadata": {
    "collapsed": false
   },
   "outputs": [
    {
     "ename": "IndexError",
     "evalue": "list index out of range",
     "output_type": "error",
     "traceback": [
      "\u001b[0;31m---------------------------------------------------------------------------\u001b[0m",
      "\u001b[0;31mIndexError\u001b[0m                                Traceback (most recent call last)",
      "\u001b[0;32m<ipython-input-23-e23a6354a3bd>\u001b[0m in \u001b[0;36m<module>\u001b[0;34m()\u001b[0m\n\u001b[0;32m----> 1\u001b[0;31m \u001b[0mplayer_urls\u001b[0m \u001b[0;34m=\u001b[0m \u001b[0mplayer_links\u001b[0m\u001b[0;34m(\u001b[0m\u001b[0mlinks\u001b[0m\u001b[0;34m[\u001b[0m\u001b[0;36m1\u001b[0m\u001b[0;34m]\u001b[0m\u001b[0;34m)\u001b[0m\u001b[0;34m\u001b[0m\u001b[0m\n\u001b[0m",
      "\u001b[0;32m<ipython-input-22-494e9ff88a2e>\u001b[0m in \u001b[0;36mplayer_links\u001b[0;34m(game_link)\u001b[0m\n\u001b[1;32m      6\u001b[0m     \u001b[0msoup\u001b[0m \u001b[0;34m=\u001b[0m \u001b[0mBeautifulSoup\u001b[0m\u001b[0;34m(\u001b[0m\u001b[0mformatted_result\u001b[0m\u001b[0;34m,\u001b[0m \u001b[0;34m'html5'\u001b[0m\u001b[0;34m)\u001b[0m\u001b[0;34m\u001b[0m\u001b[0m\n\u001b[1;32m      7\u001b[0m     player_urls = ['http://www.fourfourtwo.com' + a['href'] \n\u001b[0;32m----> 8\u001b[0;31m                for a in soup.findAll('div', {'id':'lineups'})[0].findAll('a')]\n\u001b[0m\u001b[1;32m      9\u001b[0m     player_names = ['http://www.fourfourtwo.com' + a['href'] \n\u001b[1;32m     10\u001b[0m                for a in soup.findAll('div', {'id':'lineups'})[0].findAll('a')[0].contents]\n",
      "\u001b[0;31mIndexError\u001b[0m: list index out of range"
     ]
    }
   ],
   "source": [
    "player_urls = player_links(links[1])"
   ]
  },
  {
   "cell_type": "code",
   "execution_count": 10,
   "metadata": {
    "collapsed": true
   },
   "outputs": [],
   "source": [
    "game_link = links[1]"
   ]
  },
  {
   "cell_type": "code",
   "execution_count": null,
   "metadata": {
    "collapsed": false
   },
   "outputs": [],
   "source": [
    "url = game_link + '/player-stats#tabs-wrapper-anchor'\n",
    "r = Render(url)\n",
    "result = r.frame.toHtml()\n",
    "formatted_result = str(result.toAscii())\n",
    "soup = BeautifulSoup(formatted_result, 'html5')\n",
    "player_urls = ['http://www.fourfourtwo.com' + a['href'] \n",
    "               for a in soup.findAll('div', {'id':'lineups'})[0].findAll('a')]"
   ]
  },
  {
   "cell_type": "code",
   "execution_count": 17,
   "metadata": {
    "collapsed": false
   },
   "outputs": [
    {
     "data": {
      "text/plain": [
       "[u'Bunn']"
      ]
     },
     "execution_count": 17,
     "metadata": {},
     "output_type": "execute_result"
    }
   ],
   "source": [
    "soup.findAll('div', {'id':'lineups'})[0].findAll('a')[0].contents"
   ]
  },
  {
   "cell_type": "code",
   "execution_count": 9,
   "metadata": {
    "collapsed": false,
    "scrolled": true
   },
   "outputs": [
    {
     "name": "stderr",
     "output_type": "stream",
     "text": [
      "/Users/lucaslafone/anaconda/envs/MLlib/lib/python2.7/site-packages/bs4/__init__.py:166: UserWarning: No parser was explicitly specified, so I'm using the best available HTML parser for this system (\"html5lib\"). This usually isn't a problem, but if you run this code on another system, or in a different virtual environment, it may use a different parser and behave differently.\n",
      "\n",
      "To get rid of this warning, change this:\n",
      "\n",
      " BeautifulSoup([your markup])\n",
      "\n",
      "to this:\n",
      "\n",
      " BeautifulSoup([your markup], \"html5lib\")\n",
      "\n",
      "  markup_type=markup_type))\n"
     ]
    }
   ],
   "source": [
    "player_urls = player_stats(links[1])"
   ]
  },
  {
   "cell_type": "code",
   "execution_count": 10,
   "metadata": {
    "collapsed": false
   },
   "outputs": [
    {
     "data": {
      "text/plain": [
       "22"
      ]
     },
     "execution_count": 10,
     "metadata": {},
     "output_type": "execute_result"
    }
   ],
   "source": [
    "len(player_urls)"
   ]
  },
  {
   "cell_type": "code",
   "execution_count": 11,
   "metadata": {
    "collapsed": false
   },
   "outputs": [
    {
     "ename": "NameError",
     "evalue": "name 'soup' is not defined",
     "output_type": "error",
     "traceback": [
      "\u001b[0;31m---------------------------------------------------------------------------\u001b[0m",
      "\u001b[0;31mNameError\u001b[0m                                 Traceback (most recent call last)",
      "\u001b[0;32m<ipython-input-11-34f168962a5b>\u001b[0m in \u001b[0;36m<module>\u001b[0;34m()\u001b[0m\n\u001b[0;32m----> 1\u001b[0;31m \u001b[0mlen\u001b[0m\u001b[0;34m(\u001b[0m\u001b[0msoup\u001b[0m\u001b[0;34m.\u001b[0m\u001b[0mfindAll\u001b[0m\u001b[0;34m(\u001b[0m\u001b[0;34m'div'\u001b[0m\u001b[0;34m,\u001b[0m \u001b[0;34m{\u001b[0m\u001b[0;34m'id'\u001b[0m\u001b[0;34m:\u001b[0m\u001b[0;34m'lineups'\u001b[0m\u001b[0;34m}\u001b[0m\u001b[0;34m)\u001b[0m\u001b[0;34m[\u001b[0m\u001b[0;36m0\u001b[0m\u001b[0;34m]\u001b[0m\u001b[0;34m.\u001b[0m\u001b[0mfindAll\u001b[0m\u001b[0;34m(\u001b[0m\u001b[0;34m'a'\u001b[0m\u001b[0;34m)\u001b[0m\u001b[0;34m[\u001b[0m\u001b[0;36m0\u001b[0m\u001b[0;34m]\u001b[0m\u001b[0;34m[\u001b[0m\u001b[0;34m'href'\u001b[0m\u001b[0;34m]\u001b[0m\u001b[0;34m)\u001b[0m\u001b[0;34m\u001b[0m\u001b[0m\n\u001b[0m",
      "\u001b[0;31mNameError\u001b[0m: name 'soup' is not defined"
     ]
    }
   ],
   "source": [
    "len(soup.findAll('div', {'id':'lineups'})[0].findAll('a')[0]['href'])"
   ]
  },
  {
   "cell_type": "code",
   "execution_count": 18,
   "metadata": {
    "collapsed": true
   },
   "outputs": [],
   "source": [
    " name = playerSoup.findAll('div', {'id':'statzone_player_header'})[0]"
   ]
  },
  {
   "cell_type": "code",
   "execution_count": 29,
   "metadata": {
    "collapsed": false
   },
   "outputs": [
    {
     "data": {
      "text/plain": [
       "u'Alexis S\\xe1nchez'"
      ]
     },
     "execution_count": 29,
     "metadata": {},
     "output_type": "execute_result"
    }
   ],
   "source": [
    "name.h1.text"
   ]
  },
  {
   "cell_type": "code",
   "execution_count": 12,
   "metadata": {
    "collapsed": false
   },
   "outputs": [
    {
     "data": {
      "text/plain": [
       "u'http://www.fourfourtwo.com/statszone/8-2015/matches/803532/player-stats/160220/OVERALL_02#tabs-wrapper-anchor'"
      ]
     },
     "execution_count": 12,
     "metadata": {},
     "output_type": "execute_result"
    }
   ],
   "source": [
    "player_urls[1]"
   ]
  },
  {
   "cell_type": "code",
   "execution_count": null,
   "metadata": {
    "collapsed": true
   },
   "outputs": [],
   "source": [
    "def player_stats(url):\n",
    "    #\n",
    "    playerPage = Render(url)\n",
    "    playerPageRendered = playerPage.frame.toHtml()\n",
    "    playerPageFormatted = str(playerPageRendered.toAscii())\n",
    "    playerSoup = BeautifulSoup(playerPageFormatted, 'html5')\n",
    "    \n",
    "    name = playerSoup.findAll('div', {'id':'statzone_player_header'}).h1.text\n",
    "\n",
    "\n",
    "    #passes\n",
    "    pass_success = playerSoup.findAll('line', {'marker-end': 'url(#smallblue)'})\n",
    "    pass_fail = playerSoup.findAll('line', {'marker-end': 'url(#smallred)'})\n",
    "    chances = playerSoup.findAll('line', {'marker-end': 'url(#smalldeepskyblue)'})\n",
    "    assists = playerSoup.findAll('line', {'marker-end': 'url(#smallyellow)'})\n",
    "\n",
    "    #shots\n",
    "    on_target = playerSoup.findAll('line', {'marker-end': 'url(#bigblueend)'})\n",
    "    off_target = playerSoup.findAll('line', {'marker-end': 'url(#bigredend)'})\n",
    "    on_target = playerSoup.findAll('line', {'marker-end': 'url(#bigblueend)'})\n",
    "    goals = playerSoup.findAll('line', {'marker-start': 'url(#bigyellowend)'})\n",
    "\n",
    "    #takeons\n",
    "    takeon_success = playerSoup.findAll('image', {'href': '/sites/fourfourtwo.com/modules/custom/statzone/files/icons/success.png'})\n",
    "    takeon_fail = playerSoup.findAll('image', {'href': '/sites/fourfourtwo.com/modules/custom/statzone/files/icons/fail.png'})\n",
    "\n",
    "    #defensive\n",
    "    fail_tkl = playerSoup.findAll('image', {'href': '/sites/fourfourtwo.com/modules/custom/statzone/files/icons/failed_tackle.png'})\n",
    "    success_tkl = playerSoup.findAll('image', {'href': '/sites/fourfourtwo.com/modules/custom/statzone/files/icons/successful_tackle.png'})\n",
    "    success_clearence = playerSoup.findAll('image', {'href': '/sites/fourfourtwo.com/modules/custom/statzone/files/icons/successful_clearence.png'})\n",
    "    failed_clearence = playerSoup.findAll('image', {'href': '/sites/fourfourtwo.com/modules/custom/statzone/files/icons/failed_clearence.png'})\n",
    "    interception = playerSoup.findAll('image', {'href': '/sites/fourfourtwo.com/modules/custom/statzone/files/icons/interceptions.png'})\n",
    "    ball_recovery = playerSoup.findAll('image', {'href': '/sites/fourfourtwo.com/modules/custom/statzone/files/icons/defensive-ball-clearence.png'})\n",
    "    blocks = playerSoup.findAll('image', {'href': '/sites/fourfourtwo.com/modules/custom/statzone/files/icons/blocks.png'})\n",
    "    blocks_cross = playerSoup.findAll('image', {'href': '/sites/fourfourtwo.com/modules/custom/statzone/files/icons/blocks-cross.png'})\n",
    "\n",
    "    #aerial\n",
    "    aerial_won = playerSoup.findAll('image', {'href': '/sites/fourfourtwo.com/modules/custom/statzone/files/icons/won.png'})\n",
    "    aerial_lost = playerSoup.findAll('image', {'href': '/sites/fourfourtwo.com/modules/custom/statzone/files/icons/lost.png'})\n",
    "\n",
    "    #fouls\n",
    "    foul_cmt = playerSoup.findAll('image', {'href': '/sites/fourfourtwo.com/modules/custom/statzone/files/icons/commited.png'})\n",
    "    foul_sfr = playerSoup.findAll('image', {'href': '/sites/fourfourtwo.com/modules/custom/statzone/files/icons/suffered.png'})\n",
    "\n",
    "    #errors\n",
    "    error_goal = playerSoup.findAll('image', {'href': '/sites/fourfourtwo.com/modules/custom/statzone/files/icons/error-leading-goal.png'})\n",
    "    error_shot = playerSoup.findAll('image', {'href': '/sites/fourfourtwo.com/modules/custom/statzone/files/icons/error-leading-shot.png'})\n"
   ]
  },
  {
   "cell_type": "code",
   "execution_count": 3,
   "metadata": {
    "collapsed": false
   },
   "outputs": [
    {
     "name": "stderr",
     "output_type": "stream",
     "text": [
      "/Users/lucaslafone/anaconda/envs/MLlib/lib/python2.7/site-packages/bs4/__init__.py:166: UserWarning: No parser was explicitly specified, so I'm using the best available HTML parser for this system (\"html5lib\"). This usually isn't a problem, but if you run this code on another system, or in a different virtual environment, it may use a different parser and behave differently.\n",
      "\n",
      "To get rid of this warning, change this:\n",
      "\n",
      " BeautifulSoup([your markup])\n",
      "\n",
      "to this:\n",
      "\n",
      " BeautifulSoup([your markup], \"html5lib\")\n",
      "\n",
      "  markup_type=markup_type))\n"
     ]
    }
   ],
   "source": [
    "url = 'http://www.fourfourtwo.com/statszone/8-2015/matches/803532/player-stats/37265/OVERALL_02#tabs-wrapper-anchor'\n",
    "playerPage = Render(url)\n",
    "playerPageRendered = playerPage.frame.toHtml()\n",
    "playerPageFormatted = str(playerPageRendered.toAscii())\n",
    "playerSoup = BeautifulSoup(playerPageFormatted, 'html5')\n"
   ]
  },
  {
   "cell_type": "code",
   "execution_count": 5,
   "metadata": {
    "collapsed": false
   },
   "outputs": [
    {
     "data": {
      "text/plain": [
       "[<line class=\"pitch-object timer-1-4\" marker-end=\"url(#bigyellow)\" marker-start=\"url(#bigyellowend)\" style=\"stroke:yellow;stroke-width:3\" x1=\"621.16\" x2=\"692\" y1=\"258.095\" y2=\"246.139\"></line>,\n",
       " <line class=\"pitch-object timer-2-77\" marker-end=\"url(#bigyellow)\" marker-start=\"url(#bigyellowend)\" style=\"stroke:yellow;stroke-width:3\" x1=\"658.512\" x2=\"692\" y1=\"230.34\" y2=\"264.073\"></line>,\n",
       " <line class=\"pitch-object timer-2-79\" marker-end=\"url(#bigyellow)\" marker-start=\"url(#bigyellowend)\" style=\"stroke:yellow;stroke-width:3\" x1=\"643.7\" x2=\"692\" y1=\"234.183\" y2=\"255.96\"></line>]"
      ]
     },
     "execution_count": 5,
     "metadata": {},
     "output_type": "execute_result"
    }
   ],
   "source": [
    "soup.findAll('line', {'marker-start': 'url(#bigyellowend)'})"
   ]
  },
  {
   "cell_type": "code",
   "execution_count": 4,
   "metadata": {
    "collapsed": false
   },
   "outputs": [
    {
     "data": {
      "text/plain": [
       "[]"
      ]
     },
     "execution_count": 4,
     "metadata": {},
     "output_type": "execute_result"
    }
   ],
   "source": [
    "soup.findAll('image', {'xlink:href': '/sites/fourfourtwo.com/modules/custom/statzone/files/icons/success.png'})"
   ]
  },
  {
   "cell_type": "code",
   "execution_count": 15,
   "metadata": {
    "collapsed": false
   },
   "outputs": [
    {
     "data": {
      "text/plain": [
       "4"
      ]
     },
     "execution_count": 15,
     "metadata": {},
     "output_type": "execute_result"
    }
   ],
   "source": [
    "len(chances)"
   ]
  },
  {
   "cell_type": "code",
   "execution_count": 5,
   "metadata": {
    "collapsed": false
   },
   "outputs": [],
   "source": [
    "\n",
    "#passes\n",
    "pass_success = playerSoup.findAll('line', {'marker-end': 'url(#smallblue)'})\n",
    "pass_fail = playerSoup.findAll('line', {'marker-end': 'url(#smallred)'})\n",
    "chances = playerSoup.findAll('line', {'marker-end': 'url(#smalldeepskyblue)'})\n",
    "assists = playerSoup.findAll('line', {'marker-end': 'url(#smallyellow)'})\n",
    "\n",
    "#shots\n",
    "on_target = playerSoup.findAll('line', {'marker-end': 'url(#bigblueend)'})\n",
    "off_target = playerSoup.findAll('line', {'marker-end': 'url(#bigredend)'})\n",
    "on_target = playerSoup.findAll('line', {'marker-end': 'url(#bigblueend)'})\n",
    "goals = playerSoup.findAll('line', {'marker-start': 'url(#bigyellowend)'})\n",
    "\n",
    "#takeons\n",
    "takeon_success = playerSoup.findAll('image', {'href': '/sites/fourfourtwo.com/modules/custom/statzone/files/icons/success.png'})\n",
    "takeon_fail = playerSoup.findAll('image', {'href': '/sites/fourfourtwo.com/modules/custom/statzone/files/icons/fail.png'})\n",
    "\n",
    "#defensive\n",
    "fail_tkl = playerSoup.findAll('image', {'href': '/sites/fourfourtwo.com/modules/custom/statzone/files/icons/failed_tackle.png'})\n",
    "success_tkl = playerSoup.findAll('image', {'href': '/sites/fourfourtwo.com/modules/custom/statzone/files/icons/successful_tackle.png'})\n",
    "success_clearence = playerSoup.findAll('image', {'href': '/sites/fourfourtwo.com/modules/custom/statzone/files/icons/successful_clearence.png'})\n",
    "failed_clearence = playerSoup.findAll('image', {'href': '/sites/fourfourtwo.com/modules/custom/statzone/files/icons/failed_clearence.png'})\n",
    "interception = playerSoup.findAll('image', {'href': '/sites/fourfourtwo.com/modules/custom/statzone/files/icons/interceptions.png'})\n",
    "ball_recovery = playerSoup.findAll('image', {'href': '/sites/fourfourtwo.com/modules/custom/statzone/files/icons/defensive-ball-clearence.png'})\n",
    "blocks = playerSoup.findAll('image', {'href': '/sites/fourfourtwo.com/modules/custom/statzone/files/icons/blocks.png'})\n",
    "blocks_cross = playerSoup.findAll('image', {'href': '/sites/fourfourtwo.com/modules/custom/statzone/files/icons/blocks-cross.png'})\n",
    "\n",
    "#aerial\n",
    "aerial_won = playerSoup.findAll('image', {'href': '/sites/fourfourtwo.com/modules/custom/statzone/files/icons/won.png'})\n",
    "aerial_lost = playerSoup.findAll('image', {'href': '/sites/fourfourtwo.com/modules/custom/statzone/files/icons/lost.png'})\n",
    "\n",
    "#fouls\n",
    "foul_cmt = playerSoup.findAll('image', {'href': '/sites/fourfourtwo.com/modules/custom/statzone/files/icons/commited.png'})\n",
    "foul_sfr = playerSoup.findAll('image', {'href': '/sites/fourfourtwo.com/modules/custom/statzone/files/icons/suffered.png'})\n",
    "\n",
    "#errors\n",
    "error_goal = playerSoup.findAll('image', {'href': '/sites/fourfourtwo.com/modules/custom/statzone/files/icons/error-leading-goal.png'})\n",
    "error_shot = playerSoup.findAll('image', {'href': '/sites/fourfourtwo.com/modules/custom/statzone/files/icons/error-leading-shot.png'})\n"
   ]
  },
  {
   "cell_type": "code",
   "execution_count": 7,
   "metadata": {
    "collapsed": false
   },
   "outputs": [
    {
     "data": {
      "text/plain": [
       "42"
      ]
     },
     "execution_count": 7,
     "metadata": {},
     "output_type": "execute_result"
    }
   ],
   "source": [
    "len(goals)\n",
    "len(pass_success)"
   ]
  },
  {
   "cell_type": "code",
   "execution_count": 39,
   "metadata": {
    "collapsed": false
   },
   "outputs": [
    {
     "data": {
      "text/plain": [
       "[<image height=\"529\" width=\"740\" x=\"0\" xlink:href=\"/sites/fourfourtwo.com/modules/custom/statzone/files/statszone_football_pitch.png\" y=\"0\"></image>]"
      ]
     },
     "execution_count": 39,
     "metadata": {},
     "output_type": "execute_result"
    }
   ],
   "source": []
  },
  {
   "cell_type": "code",
   "execution_count": null,
   "metadata": {
    "collapsed": true
   },
   "outputs": [],
   "source": []
  }
 ],
 "metadata": {
  "anaconda-cloud": {},
  "kernelspec": {
   "display_name": "Python [MLlib]",
   "language": "python",
   "name": "Python [MLlib]"
  },
  "language_info": {
   "codemirror_mode": {
    "name": "ipython",
    "version": 2
   },
   "file_extension": ".py",
   "mimetype": "text/x-python",
   "name": "python",
   "nbconvert_exporter": "python",
   "pygments_lexer": "ipython2",
   "version": "2.7.12"
  }
 },
 "nbformat": 4,
 "nbformat_minor": 0
}
