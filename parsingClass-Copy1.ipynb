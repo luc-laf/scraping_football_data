{
 "cells": [
  {
   "cell_type": "code",
   "execution_count": 1,
   "metadata": {
    "collapsed": true
   },
   "outputs": [],
   "source": [
    "from bs4 import BeautifulSoup\n",
    "import urllib\n",
    "import sys  \n",
    "import os\n",
    "from PyQt4.QtGui import *  \n",
    "from PyQt4.QtCore import *  \n",
    "from PyQt4.QtWebKit import *  \n",
    "from lxml import html \n",
    "import dryscrape\n",
    "import pickle\n",
    "import json\n",
    "from unidecode import unidecode\n",
    "import re"
   ]
  },
  {
   "cell_type": "code",
   "execution_count": 2,
   "metadata": {
    "collapsed": false
   },
   "outputs": [],
   "source": [
    "class SeasonData2(object):\n",
    "    \n",
    "    def __init__(self, year):\n",
    "        self.year = year\n",
    "        print self.year\n",
    "        self.season = self.season_links(self.year)\n",
    "        \n",
    "        for gameName,game in self.season.iteritems():\n",
    "            path = '/media/sf_VirtualBox/Football/'\n",
    "            if not os.path.exists(path + year + \"/\" + game['homeTeam'] + '_' + game['awayTeam'] + \".pkl\"):\n",
    "                \n",
    "                print gameName\n",
    "                game['match_stats'] = self.match_stats(game['link'])\n",
    "                game['home_players'], game['away_players'] = self.player_links(game['link'])\n",
    "                \n",
    "                for playerName, player in game['home_players'].iteritems():\n",
    "                    print playerName\n",
    "                    player['player_stats'] = self.player_stats(player['link'])\n",
    "                for playerName, player in game['away_players'].iteritems():\n",
    "                    print playerName\n",
    "                    player['player_stats'] = self.player_stats(player['link'])\n",
    "                \n",
    "                output = open(path + year + \"/\" + game['homeTeam'] + '_' + game['awayTeam'] + \".pkl\", 'wb')\n",
    "                pickle.dump(game, output, protocol=2)\n",
    "                output.close()\n",
    "                \n",
    "                \n",
    "        \n",
    "        \n",
    "    #list of all mathces in list links\n",
    "    def season_links(self, year):\n",
    "        resultsPage = urllib.urlopen(\"http://www.fourfourtwo.com/statszone/results/8-\" + year)\n",
    "        resultsPageSoup = BeautifulSoup(resultsPage, 'html5lib')\n",
    "        scores = resultsPageSoup.findAll('td', {'class': 'score'})\n",
    "        homeTeams = resultsPageSoup.findAll('td', {'class': 'home-team'})\n",
    "        awayTeams = resultsPageSoup.findAll('td', {'class': 'away-team'})\n",
    "        #matches = [homeTeams[i].contents[0].strip()+\"_\"+awayTeams[i].contents[0].strip() for i in range(0,len(homeTeams))]\n",
    "        gamesStatsLinks = ['http://www.fourfourtwo.com' + \n",
    "                           l.a['href'] for l in resultsPageSoup.findAll('td', {'class': 'link-to-match'})]\n",
    "\n",
    "        season = {}\n",
    "\n",
    "        for i in range(0,len(homeTeams)):\n",
    "            season[homeTeams[i].contents[0].replace(\" \", \"\") + \"_\" + awayTeams[i].contents[0].replace(\" \", \"\")] = {\n",
    "                \"homeTeam\":str(homeTeams[i].contents[0]).replace(\" \",\"\"),\n",
    "                \"awayTeam\":str(awayTeams[i].contents[0]).replace(\" \",\"\"),\n",
    "                \"homeGoals\":int(scores[i].contents[0].split(\"-\")[0]),\n",
    "                \"awayGoals\":int(scores[i].contents[0].split(\"-\")[1]),\n",
    "                \"link\":str(gamesStatsLinks[i])\n",
    "            }\n",
    "\n",
    "        return(season)\n",
    "    \n",
    "    \n",
    "    \n",
    "    def match_stats(self, link):\n",
    "        resultsPage = urllib.urlopen(link)\n",
    "        resultsPageSoup = BeautifulSoup(resultsPage)\n",
    "\n",
    "        #overall statistics\n",
    "        match_stats = {}\n",
    "        possession = resultsPageSoup.findAll('div', {'id':'summary_possessions'})[0].findAll('svg', {'class': 'doughnut_chart'})[0].text\n",
    "        match_stats['home_possession'] = float(possession.split('%')[0])\n",
    "        match_stats['away_possession'] = float(possession.split('%')[1])\n",
    "\n",
    "\n",
    "        match_stats['home_pass_cmplt'] = int(resultsPageSoup.findAll('div', {'id':'summary_passes'})[0].findAll('text', {'fill': \"#FCD800\"})[0].next)\n",
    "        match_stats['away_pass_cmplt'] = int(resultsPageSoup.findAll('div', {'id':'summary_passes'})[0].findAll('text', {'fill': \"#E6E6E6\"})[0].next)\n",
    "\n",
    "        match_stats['home_crnr'] = int(resultsPageSoup.findAll('div', {'id':'summary_corners'})[0].findAll('text', {'fill': \"#FCD800\"})[0].next)\n",
    "        match_stats['away_crnr'] = int(resultsPageSoup.findAll('div', {'id':'summary_corners'})[0].findAll('text', {'fill': \"#E6E6E6\"})[0].next)\n",
    "\n",
    "        match_stats['home_attck_pass'] = int(resultsPageSoup.findAll('div', {'id':'summary_attacking'})[0].findAll('text', {'fill': \"#FCD800\"})[0].next)\n",
    "        match_stats['away_attck_pass']= int(resultsPageSoup.findAll('div', {'id':'summary_attacking'})[0].findAll('text', {'fill': \"#E6E6E6\"})[0].next)\n",
    "\n",
    "        match_stats['home_shots'] = int(resultsPageSoup.findAll('div', {'id':'summary_shots'})[0].findAll('text', {'fill': \"#FCD800\"})[0].next)\n",
    "        match_stats['away_shots'] = int(resultsPageSoup.findAll('div', {'id':'summary_shots'})[0].findAll('text', {'fill': \"#E6E6E6\"})[0].next)\n",
    "\n",
    "        match_stats['home_fouls'] = int(resultsPageSoup.findAll('div', {'id':'summary_fouls'})[0].findAll('text', {'fill': \"#FCD800\"})[0].next)\n",
    "        match_stats['away_fouls'] = int(resultsPageSoup.findAll('div', {'id':'summary_fouls'})[0].findAll('text', {'fill': \"#E6E6E6\"})[0].next)\n",
    "\n",
    "        match_stats['date_location'] = resultsPageSoup.findAll('div', {'class': 'teams'})[0].next.strip()\n",
    "\n",
    "        match_stats['date'] = str(match_stats['date_location'].split(',')[-2])\n",
    "        match_stats['time'] = str(match_stats['date_location'].split('-')[-1])\n",
    "        \n",
    "        home_goals_raw = resultsPageSoup.findAll('div',{'class':'home'})[0].contents\n",
    "        match_stats['home_goals'] = []\n",
    "        for el in home_goals_raw:\n",
    "            if str(el) != '\\n':\n",
    "                match_stats['home_goals_times'].append(int(re.sub(\"[^0-9]\", \"\", str(el.contents))))\n",
    "                \n",
    "        away_goals_raw = resultsPageSoup.findAll('div',{'class':'away'})[0].contents\n",
    "        match_stats['away_goals'] = []\n",
    "        for el in away_goals_raw:\n",
    "            if str(el) != '\\n':\n",
    "                match_stats['away_goals_times'].append(int(re.sub(\"[^0-9]\", \"\", str(el.contents))))\n",
    "                \n",
    "        return(match_stats)\n",
    "\n",
    "\n",
    "    def player_links(self, game_link):\n",
    "        url = game_link + '/player-stats#tabs-wrapper-anchor'\n",
    "        session = dryscrape.Session()\n",
    "        session.visit(url)\n",
    "        formatted_result = session.body()\n",
    "\n",
    "        soup = BeautifulSoup(formatted_result, 'html5lib')\n",
    "        home_players = soup.findAll('div', {'class': 'lineup home'})\n",
    "        away_players = soup.findAll('div', {'class': 'lineup away'})\n",
    "\n",
    "\n",
    "        home_player_urls = ['http://www.fourfourtwo.com' + player.findAll('a')[0]['href'] \n",
    "           for player in home_players]\n",
    "        home_player_names = [player.findAll('a')[0].contents\n",
    "           for player in home_players]\n",
    "\n",
    "        away_player_urls = ['http://www.fourfourtwo.com' + player.findAll('a')[0]['href'] \n",
    "           for player in away_players]\n",
    "        away_player_names = [player.findAll('a')[0].contents\n",
    "           for player in away_players]\n",
    "\n",
    "        home_players = {}\n",
    "        for i in range(len(home_player_names)):\n",
    "            home_players[str(unidecode(home_player_names[i][0]))] = {\"link\":str(home_player_urls[i]) }\n",
    "\n",
    "        away_players = {}\n",
    "        for i in range(len(away_player_names)):\n",
    "            away_players[str(unidecode(away_player_names[i][0]))] = {\"link\":str(away_player_urls[i]) }\n",
    "\n",
    "        return(home_players, away_players)\n",
    "\n",
    "\n",
    "    \n",
    "    def player_stats(self, url):\n",
    "        #\n",
    "        \n",
    "        session = dryscrape.Session()\n",
    "        session.visit(url)\n",
    "        playerPageFormatted = session.body()\n",
    "        playerSoup = BeautifulSoup(playerPageFormatted, 'html5lib')\n",
    "\n",
    "        match_stats = {}\n",
    "        #passes\n",
    "        match_stats['pass_success'] = len(playerSoup.findAll('line', {'marker-end': 'url(#smallblue)'}))\n",
    "        match_stats['pass_fail'] = len(playerSoup.findAll('line', {'marker-end': 'url(#smallred)'}))\n",
    "        match_stats['chances'] = len(playerSoup.findAll('line', {'marker-end': 'url(#smalldeepskyblue)'}))\n",
    "        match_stats['assists'] = len(playerSoup.findAll('line', {'marker-end': 'url(#smallyellow)'}))\n",
    "\n",
    "        #shots\n",
    "        match_stats['on_target'] = len(playerSoup.findAll('line', {'marker-end': 'url(#bigblueend)'}))\n",
    "        match_stats['off_target'] = len(playerSoup.findAll('line', {'marker-end': 'url(#bigredend)'}))\n",
    "        match_stats['on_target'] = len(playerSoup.findAll('line', {'marker-end': 'url(#bigblueend)'}))\n",
    "        match_stats['goals'] = len(playerSoup.findAll('line', {'marker-start': 'url(#bigyellowend)'}))\n",
    "\n",
    "        #takeons\n",
    "        match_stats['takeon_success'] = len(playerSoup.findAll('image', {'href': '/sites/fourfourtwo.com/modules/custom/statzone/files/icons/success.png'}))\n",
    "        match_stats['takeon_fail'] = len(playerSoup.findAll('image', {'href': '/sites/fourfourtwo.com/modules/custom/statzone/files/icons/fail.png'}))\n",
    "\n",
    "        #defensive\n",
    "        match_stats['fail_tkl'] = len(playerSoup.findAll('image', {'href': '/sites/fourfourtwo.com/modules/custom/statzone/files/icons/failed_tackle.png'}))\n",
    "        match_stats['success_tkl'] = len(playerSoup.findAll('image', {'href': '/sites/fourfourtwo.com/modules/custom/statzone/files/icons/successful_tackle.png'}))\n",
    "        match_stats['success_clearence'] = len(playerSoup.findAll('image', {'href': '/sites/fourfourtwo.com/modules/custom/statzone/files/icons/successful_clearence.png'}))\n",
    "        match_stats['failed_clearence'] = len(playerSoup.findAll('image', {'href': '/sites/fourfourtwo.com/modules/custom/statzone/files/icons/failed_clearence.png'}))\n",
    "        match_stats['interception'] = len(playerSoup.findAll('image', {'href': '/sites/fourfourtwo.com/modules/custom/statzone/files/icons/interceptions.png'}))\n",
    "        match_stats['ball_recovery'] = len(playerSoup.findAll('image', {'href': '/sites/fourfourtwo.com/modules/custom/statzone/files/icons/defensive-ball-clearence.png'}))\n",
    "        match_stats['blocks'] = len(playerSoup.findAll('image', {'href': '/sites/fourfourtwo.com/modules/custom/statzone/files/icons/blocks.png'}))\n",
    "        match_stats['blocks_cross'] = len(playerSoup.findAll('image', {'href': '/sites/fourfourtwo.com/modules/custom/statzone/files/icons/blocks-cross.png'}))\n",
    "\n",
    "        #aerial\n",
    "        match_stats['aerial_won'] = len(playerSoup.findAll('image', {'href': '/sites/fourfourtwo.com/modules/custom/statzone/files/icons/won.png'}))\n",
    "        match_stats['aerial_lost'] = len(playerSoup.findAll('image', {'href': '/sites/fourfourtwo.com/modules/custom/statzone/files/icons/lost.png'}))\n",
    "\n",
    "        #fouls\n",
    "        match_stats['foul_cmt'] = len(playerSoup.findAll('image', {'href': '/sites/fourfourtwo.com/modules/custom/statzone/files/icons/commited.png'}))\n",
    "        match_stats['foul_sfr'] = len(playerSoup.findAll('image', {'href': '/sites/fourfourtwo.com/modules/custom/statzone/files/icons/suffered.png'}))\n",
    "\n",
    "        #errors\n",
    "        match_stats['error_goal'] = len(playerSoup.findAll('image', {'href': '/sites/fourfourtwo.com/modules/custom/statzone/files/icons/error-leading-goal.png'}))\n",
    "        match_stats['error_shot'] = len(playerSoup.findAll('image', {'href': '/sites/fourfourtwo.com/modules/custom/statzone/files/icons/error-leading-shot.png'}))\n",
    "\n",
    "        return(match_stats)\n",
    "\n",
    "    \n",
    "        "
   ]
  },
  {
   "cell_type": "code",
   "execution_count": 3,
   "metadata": {
    "collapsed": false
   },
   "outputs": [
    {
     "name": "stdout",
     "output_type": "stream",
     "text": [
      "2015\n"
     ]
    },
    {
     "data": {
      "text/plain": [
       "<__main__.SeasonData2 at 0x7ff7bfdd6490>"
      ]
     },
     "execution_count": 3,
     "metadata": {},
     "output_type": "execute_result"
    }
   ],
   "source": [
    "SeasonData2('2015')"
   ]
  },
  {
   "cell_type": "code",
   "execution_count": 4,
   "metadata": {
    "collapsed": false
   },
   "outputs": [
    {
     "data": {
      "text/plain": [
       "20"
      ]
     },
     "execution_count": 4,
     "metadata": {},
     "output_type": "execute_result"
    }
   ],
   "source": [
    "10*2"
   ]
  },
  {
   "cell_type": "code",
   "execution_count": null,
   "metadata": {
    "collapsed": true
   },
   "outputs": [],
   "source": [
    "if __name__ == '__main__':\n",
    "    SeasonData('2015')"
   ]
  }
 ],
 "metadata": {
  "anaconda-cloud": {},
  "kernelspec": {
   "display_name": "Python [conda env:football]",
   "language": "python",
   "name": "conda-env-football-py"
  },
  "language_info": {
   "codemirror_mode": {
    "name": "ipython",
    "version": 2
   },
   "file_extension": ".py",
   "mimetype": "text/x-python",
   "name": "python",
   "nbconvert_exporter": "python",
   "pygments_lexer": "ipython2",
   "version": "2.7.13"
  }
 },
 "nbformat": 4,
 "nbformat_minor": 2
}
