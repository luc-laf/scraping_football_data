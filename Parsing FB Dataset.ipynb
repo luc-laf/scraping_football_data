{
 "cells": [
  {
   "cell_type": "code",
   "execution_count": 1,
   "metadata": {
    "collapsed": false
   },
   "outputs": [],
   "source": [
    "from bs4 import BeautifulSoup\n",
    "import urllib\n",
    "import sys  \n",
    "from PyQt4.QtGui import *  \n",
    "from PyQt4.QtCore import *  \n",
    "from PyQt4.QtWebKit import *  \n",
    "from lxml import html "
   ]
  },
  {
   "cell_type": "code",
   "execution_count": 2,
   "metadata": {
    "collapsed": false
   },
   "outputs": [],
   "source": [
    "class Render(QWebPage):  \n",
    "    def __init__(self, url):  \n",
    "        self.app = QApplication(sys.argv)  \n",
    "        QWebPage.__init__(self)  \n",
    "        self.loadFinished.connect(self._loadFinished)  \n",
    "        self.mainFrame().load(QUrl(url))  \n",
    "        self.app.exec_()  \n",
    "  \n",
    "    def _loadFinished(self, result):  \n",
    "        self.frame = self.mainFrame()  \n",
    "        self.app.quit() "
   ]
  },
  {
   "cell_type": "code",
   "execution_count": 5,
   "metadata": {
    "collapsed": true
   },
   "outputs": [],
   "source": [
    "r = urllib.urlopen(\"http://www.fourfourtwo.com/statszone/results/8-2015\")\n",
    "soup = BeautifulSoup(r)\n",
    "\n",
    "links = ['http://www.fourfourtwo.com' + \n",
    "         l.a['href'] for l in soup.findAll('td', {'class': 'link-to-match'})]"
   ]
  },
  {
   "cell_type": "code",
   "execution_count": 8,
   "metadata": {
    "collapsed": true
   },
   "outputs": [],
   "source": [
    "r2 = urllib.urlopen(links[1])\n",
    "soup2 = BeautifulSoup(r2)\n",
    "\n",
    "#overall statistics\n",
    "\n",
    "possession = soup2.findAll('div', {'id':'summary_possessions'})[0].findAll('svg', {'class': 'doughnut_chart'})[0].text\n",
    "\n",
    "home_pass_cmplt = soup2.findAll('div', {'id':'summary_passes'})[0].findAll('text', {'fill': \"#FCD800\"})[0].next\n",
    "away_pass_cmplt = soup2.findAll('div', {'id':'summary_passes'})[0].findAll('text', {'fill': \"#E6E6E6\"})[0].next\n",
    "\n",
    "home_crnr = soup2.findAll('div', {'id':'summary_corners'})[0].findAll('text', {'fill': \"#FCD800\"})[0].next\n",
    "away_crnr = soup2.findAll('div', {'id':'summary_corners'})[0].findAll('text', {'fill': \"#E6E6E6\"})[0].next\n",
    "\n",
    "home_attck_pass = soup2.findAll('div', {'id':'summary_attacking'})[0].findAll('text', {'fill': \"#FCD800\"})[0].next\n",
    "away_attck_pass = soup2.findAll('div', {'id':'summary_attacking'})[0].findAll('text', {'fill': \"#E6E6E6\"})[0].next\n",
    "\n",
    "home_shots = soup2.findAll('div', {'id':'summary_shots'})[0].findAll('text', {'fill': \"#FCD800\"})[0].next\n",
    "away_shots = soup2.findAll('div', {'id':'summary_shots'})[0].findAll('text', {'fill': \"#E6E6E6\"})[0].next\n",
    "\n",
    "home_fouls = soup2.findAll('div', {'id':'summary_fouls'})[0].findAll('text', {'fill': \"#FCD800\"})[0].next\n",
    "away_fouls = soup2.findAll('div', {'id':'summary_fouls'})[0].findAll('text', {'fill': \"#E6E6E6\"})[0].next\n",
    "\n",
    "date_location = soup2.findAll('div', {'class': 'teams'})[0].next.strip()"
   ]
  },
  {
   "cell_type": "code",
   "execution_count": 6,
   "metadata": {
    "collapsed": false
   },
   "outputs": [],
   "source": [
    "url = links[1] + '/player-stats#tabs-wrapper-anchor'\n",
    "r = Render(url)\n",
    "result = r.frame.toHtml()\n",
    "formatted_result = str(result.toAscii())\n",
    "soup = BeautifulSoup(formatted_result, 'html5')\n"
   ]
  },
  {
   "cell_type": "code",
   "execution_count": 7,
   "metadata": {
    "collapsed": false
   },
   "outputs": [],
   "source": [
    "player_urls = ['http://www.fourfourtwo.com' + a['href'] \n",
    "               for a in soup.findAll('div', {'id':'lineups'})[0].findAll('a')]\n"
   ]
  },
  {
   "cell_type": "code",
   "execution_count": 8,
   "metadata": {
    "collapsed": false
   },
   "outputs": [
    {
     "data": {
      "text/plain": [
       "22"
      ]
     },
     "execution_count": 8,
     "metadata": {},
     "output_type": "execute_result"
    }
   ],
   "source": [
    "len(player_urls)"
   ]
  },
  {
   "cell_type": "code",
   "execution_count": 30,
   "metadata": {
    "collapsed": false
   },
   "outputs": [
    {
     "data": {
      "text/plain": [
       "82"
      ]
     },
     "execution_count": 30,
     "metadata": {},
     "output_type": "execute_result"
    }
   ],
   "source": [
    "len(soup.findAll('div', {'id':'lineups'})[0].findAll('a')[0]['href'])"
   ]
  },
  {
   "cell_type": "code",
   "execution_count": 35,
   "metadata": {
    "collapsed": false
   },
   "outputs": [
    {
     "data": {
      "text/plain": [
       "u'http://www.fourfourtwo.com/statszone/8-2015/matches/803532/player-stats/160220/OVERALL_02#tabs-wrapper-anchor'"
      ]
     },
     "execution_count": 35,
     "metadata": {},
     "output_type": "execute_result"
    }
   ],
   "source": [
    "player_urls[1]"
   ]
  },
  {
   "cell_type": "code",
   "execution_count": 3,
   "metadata": {
    "collapsed": false
   },
   "outputs": [],
   "source": [
    "url = 'http://www.fourfourtwo.com/statszone/8-2015/matches/803532/player-stats/37265/OVERALL_02#tabs-wrapper-anchor'\n",
    "r = Render(url)\n",
    "result = r.frame.toHtml()\n",
    "formatted_result = str(result.toAscii())\n",
    "soup = BeautifulSoup(formatted_result, 'html5')\n"
   ]
  },
  {
   "cell_type": "code",
   "execution_count": 5,
   "metadata": {
    "collapsed": false
   },
   "outputs": [
    {
     "data": {
      "text/plain": [
       "[<line class=\"pitch-object timer-1-4\" marker-end=\"url(#bigyellow)\" marker-start=\"url(#bigyellowend)\" style=\"stroke:yellow;stroke-width:3\" x1=\"621.16\" x2=\"692\" y1=\"258.095\" y2=\"246.139\"></line>,\n",
       " <line class=\"pitch-object timer-2-77\" marker-end=\"url(#bigyellow)\" marker-start=\"url(#bigyellowend)\" style=\"stroke:yellow;stroke-width:3\" x1=\"658.512\" x2=\"692\" y1=\"230.34\" y2=\"264.073\"></line>,\n",
       " <line class=\"pitch-object timer-2-79\" marker-end=\"url(#bigyellow)\" marker-start=\"url(#bigyellowend)\" style=\"stroke:yellow;stroke-width:3\" x1=\"643.7\" x2=\"692\" y1=\"234.183\" y2=\"255.96\"></line>]"
      ]
     },
     "execution_count": 5,
     "metadata": {},
     "output_type": "execute_result"
    }
   ],
   "source": [
    "soup.findAll('line', {'marker-start': 'url(#bigyellowend)'})"
   ]
  },
  {
   "cell_type": "code",
   "execution_count": 4,
   "metadata": {
    "collapsed": false
   },
   "outputs": [
    {
     "data": {
      "text/plain": [
       "[]"
      ]
     },
     "execution_count": 4,
     "metadata": {},
     "output_type": "execute_result"
    }
   ],
   "source": [
    "soup.findAll('image', {'xlink:href': '/sites/fourfourtwo.com/modules/custom/statzone/files/icons/success.png'})"
   ]
  },
  {
   "cell_type": "code",
   "execution_count": 6,
   "metadata": {
    "collapsed": false
   },
   "outputs": [],
   "source": [
    "\n",
    "takeon_success = soup.findAll('image', {'href': '/sites/fourfourtwo.com/modules/custom/statzone/files/icons/success.png'})"
   ]
  },
  {
   "cell_type": "code",
   "execution_count": 7,
   "metadata": {
    "collapsed": false
   },
   "outputs": [
    {
     "data": {
      "text/plain": [
       "[<image class=\"pitch-object timer-1-31 success\" height=\"30\" href=\"/sites/fourfourtwo.com/modules/custom/statzone/files/icons/success.png\" width=\"30\" x=\"585.552\" y=\"66.317\"></image>,\n",
       " <image class=\"pitch-object timer-1-33 success\" height=\"30\" href=\"/sites/fourfourtwo.com/modules/custom/statzone/files/icons/success.png\" width=\"30\" x=\"427.128\" y=\"72.295\"></image>,\n",
       " <image class=\"pitch-object timer-2-52 success\" height=\"30\" href=\"/sites/fourfourtwo.com/modules/custom/statzone/files/icons/success.png\" width=\"30\" x=\"322.8\" y=\"191.855\"></image>,\n",
       " <image class=\"pitch-object timer-2-72 success\" height=\"30\" href=\"/sites/fourfourtwo.com/modules/custom/statzone/files/icons/success.png\" width=\"30\" x=\"577.824\" y=\"178.618\"></image>,\n",
       " <image class=\"pitch-object timer-2-84 success\" height=\"30\" href=\"/sites/fourfourtwo.com/modules/custom/statzone/files/icons/success.png\" width=\"30\" x=\"561.08\" y=\"110.298\"></image>,\n",
       " <image class=\"pitch-object timer-2-91 success\" height=\"30\" href=\"/sites/fourfourtwo.com/modules/custom/statzone/files/icons/success.png\" width=\"30\" x=\"652.528\" y=\"88.521\"></image>]"
      ]
     },
     "execution_count": 7,
     "metadata": {},
     "output_type": "execute_result"
    }
   ],
   "source": [
    "takeon_success"
   ]
  },
  {
   "cell_type": "code",
   "execution_count": 5,
   "metadata": {
    "collapsed": false
   },
   "outputs": [
    {
     "data": {
      "text/plain": [
       "[<image height=\"529\" href=\"/sites/fourfourtwo.com/modules/custom/statzone/files/statszone_football_pitch.png\" width=\"740\" x=\"0\" y=\"0\"></image>,\n",
       " <image class=\"pitch-object timer-1-31 success\" height=\"30\" href=\"/sites/fourfourtwo.com/modules/custom/statzone/files/icons/success.png\" width=\"30\" x=\"585.552\" y=\"66.317\"></image>,\n",
       " <image class=\"pitch-object timer-1-33 success\" height=\"30\" href=\"/sites/fourfourtwo.com/modules/custom/statzone/files/icons/success.png\" width=\"30\" x=\"427.128\" y=\"72.295\"></image>,\n",
       " <image class=\"pitch-object timer-2-52 success\" height=\"30\" href=\"/sites/fourfourtwo.com/modules/custom/statzone/files/icons/success.png\" width=\"30\" x=\"322.8\" y=\"191.855\"></image>,\n",
       " <image class=\"pitch-object timer-2-72 success\" height=\"30\" href=\"/sites/fourfourtwo.com/modules/custom/statzone/files/icons/success.png\" width=\"30\" x=\"577.824\" y=\"178.618\"></image>,\n",
       " <image class=\"pitch-object timer-2-84 success\" height=\"30\" href=\"/sites/fourfourtwo.com/modules/custom/statzone/files/icons/success.png\" width=\"30\" x=\"561.08\" y=\"110.298\"></image>,\n",
       " <image class=\"pitch-object timer-2-91 success\" height=\"30\" href=\"/sites/fourfourtwo.com/modules/custom/statzone/files/icons/success.png\" width=\"30\" x=\"652.528\" y=\"88.521\"></image>,\n",
       " <image class=\"pitch-object timer-2-84 fail\" height=\"30\" href=\"/sites/fourfourtwo.com/modules/custom/statzone/files/icons/failed_tackle.png\" width=\"30\" x=\"442.584\" y=\"332.765\"></image>,\n",
       " <image class=\"pitch-object timer-1-10 fail\" height=\"30\" href=\"/sites/fourfourtwo.com/modules/custom/statzone/files/icons/interceptions.png\" width=\"30\" x=\"265.484\" y=\"146.593\"></image>,\n",
       " <image class=\"pitch-object timer-1-12 fail\" height=\"30\" href=\"/sites/fourfourtwo.com/modules/custom/statzone/files/icons/interceptions.png\" width=\"30\" x=\"479.292\" y=\"50.518\"></image>,\n",
       " <image class=\"pitch-object timer-1-11 fail\" height=\"30\" href=\"/sites/fourfourtwo.com/modules/custom/statzone/files/icons/commited.png\" width=\"30\" x=\"482.512\" y=\"45.821\"></image>,\n",
       " <image class=\"pitch-object timer-2-56 fail\" height=\"30\" href=\"/sites/fourfourtwo.com/modules/custom/statzone/files/icons/commited.png\" width=\"30\" x=\"329.24\" y=\"138.48\"></image>,\n",
       " <image class=\"pitch-object timer-2-54 success\" height=\"30\" href=\"/sites/fourfourtwo.com/modules/custom/statzone/files/icons/suffered.png\" width=\"30\" x=\"253.892\" y=\"186.731\"></image>]"
      ]
     },
     "execution_count": 5,
     "metadata": {},
     "output_type": "execute_result"
    }
   ],
   "source": [
    "soup.findAll('image')"
   ]
  },
  {
   "cell_type": "code",
   "execution_count": 6,
   "metadata": {
    "collapsed": false
   },
   "outputs": [],
   "source": [
    "\n",
    "goals = soup.findAll('line', {'marker-start': 'url(#bigyellowend)'})\n",
    "assists = soup.findAll('line', {'marker-end': 'url(#smallyellow)'})\n",
    "pass_success = soup.findAll('line', {'marker-end': 'url(#smallblue)'})\n",
    "pass_fail = soup.findAll('line', {'marker-end': 'url(#smallred)'})\n",
    "chances = soup.findAll('line', {'marker-end': 'url(#smalldeepskyblue)'})\n",
    "takeon_success = soup.findAll('image', {'href': '/sites/fourfourtwo.com/modules/custom/statzone/files/icons/success.png'})\n",
    "fail_tkl = soup.findAll('image', {'href': '/sites/fourfourtwo.com/modules/custom/statzone/files/icons/failed_tackle.png'})\n",
    "success_tkl = soup.findAll('image', {'href': '/sites/fourfourtwo.com/modules/custom/statzone/files/icons/successful_tackle.png'})\n",
    "interception = soup.findAll('image', {'href': '/sites/fourfourtwo.com/modules/custom/statzone/files/icons/interceptions.png'})\n",
    "foul_cmt = soup.findAll('image', {'href': '/sites/fourfourtwo.com/modules/custom/statzone/files/icons/commited.png'})\n",
    "foul_sfr = soup.findAll('image', {'href': '/sites/fourfourtwo.com/modules/custom/statzone/files/icons/suffered.png'})\n"
   ]
  },
  {
   "cell_type": "code",
   "execution_count": 8,
   "metadata": {
    "collapsed": false
   },
   "outputs": [
    {
     "data": {
      "text/plain": [
       "0"
      ]
     },
     "execution_count": 8,
     "metadata": {},
     "output_type": "execute_result"
    }
   ],
   "source": [
    "len(goals)\n",
    "len(assists)"
   ]
  },
  {
   "cell_type": "code",
   "execution_count": 39,
   "metadata": {
    "collapsed": false
   },
   "outputs": [
    {
     "data": {
      "text/plain": [
       "[<image height=\"529\" width=\"740\" x=\"0\" xlink:href=\"/sites/fourfourtwo.com/modules/custom/statzone/files/statszone_football_pitch.png\" y=\"0\"></image>]"
      ]
     },
     "execution_count": 39,
     "metadata": {},
     "output_type": "execute_result"
    }
   ],
   "source": []
  },
  {
   "cell_type": "code",
   "execution_count": null,
   "metadata": {
    "collapsed": true
   },
   "outputs": [],
   "source": []
  }
 ],
 "metadata": {
  "kernelspec": {
   "display_name": "Python 2",
   "language": "python",
   "name": "python2"
  },
  "language_info": {
   "codemirror_mode": {
    "name": "ipython",
    "version": 2
   },
   "file_extension": ".py",
   "mimetype": "text/x-python",
   "name": "python",
   "nbconvert_exporter": "python",
   "pygments_lexer": "ipython2",
   "version": "2.7.12"
  }
 },
 "nbformat": 4,
 "nbformat_minor": 0
}
