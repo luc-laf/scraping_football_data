{
 "cells": [
  {
   "cell_type": "code",
   "execution_count": 5,
   "metadata": {
    "collapsed": true
   },
   "outputs": [],
   "source": [
    "from bs4 import BeautifulSoup\n",
    "import urllib\n",
    "import sys  \n",
    "import os\n",
    "from PyQt4.QtGui import *  \n",
    "from PyQt4.QtCore import *  \n",
    "from PyQt4.QtWebKit import *  \n",
    "from lxml import html "
   ]
  },
  {
   "cell_type": "code",
   "execution_count": 6,
   "metadata": {
    "collapsed": false
   },
   "outputs": [],
   "source": [
    "#class for rendering js pages for use with BS\n",
    "class Render(QWebPage):  \n",
    "    def __init__(self, url):  \n",
    "        self.app = QApplication(sys.argv)  \n",
    "        QWebPage.__init__(self)  \n",
    "        self.loadFinished.connect(self._loadFinished)  \n",
    "        self.mainFrame().load(QUrl(url))  \n",
    "        self.app.exec_()  \n",
    "  \n",
    "    def _loadFinished(self, result):  \n",
    "        self.frame = self.mainFrame()  \n",
    "        self.app.quit() "
   ]
  },
  {
   "cell_type": "code",
   "execution_count": 7,
   "metadata": {
    "collapsed": false
   },
   "outputs": [],
   "source": [
    "class SeasonData(object):\n",
    "    \n",
    "    def __init__(self, year):\n",
    "        self.year = year\n",
    "        print self.year\n",
    "        self.season = self.season_links(self.year)\n",
    "        \n",
    "        for gameName,game in self.season.iteritems():\n",
    "            \n",
    "            if not os.path.exists(year + \"/\" + game['homeTeam'] + '_' + game['awayTeam'] + \".pkl\"):\n",
    "                \n",
    "                print gameName\n",
    "                game['match_stats'] = self.match_stats(game['link'])\n",
    "                game['players'] = self.player_links(game['link'])\n",
    "                \n",
    "                for playerName, player in game['players'].iteritems():\n",
    "                    print playerName\n",
    "                    player['player_stats'] = self.player_stats(player['link'])\n",
    "                \n",
    "                output = open(year + \"/\" + game['homeTeam'] + '_' + game['awayTeam'] + \".pkl\", 'wb')\n",
    "                pickle.dump(mydict, game)\n",
    "                output.close()\n",
    "                \n",
    "                \n",
    "        \n",
    "        \n",
    "    #list of all mathces in list links\n",
    "    def season_links(self, year):\n",
    "        resultsPage = urllib.urlopen(\"http://www.fourfourtwo.com/statszone/results/8-\" + year)\n",
    "        resultsPageSoup = BeautifulSoup(resultsPage)\n",
    "        scores = resultsPageSoup.findAll('td', {'class': 'score'})\n",
    "        homeTeams = resultsPageSoup.findAll('td', {'class': 'home-team'})\n",
    "        awayTeams = resultsPageSoup.findAll('td', {'class': 'away-team'})\n",
    "        #matches = [homeTeams[i].contents[0].strip()+\"_\"+awayTeams[i].contents[0].strip() for i in range(0,len(homeTeams))]\n",
    "        gamesStatsLinks = ['http://www.fourfourtwo.com' + \n",
    "                           l.a['href'] for l in resultsPageSoup.findAll('td', {'class': 'link-to-match'})]\n",
    "\n",
    "        season = {}\n",
    "\n",
    "        for i in range(0,len(homeTeams)):\n",
    "            season[homeTeams[i].contents[0].replace(\" \", \"\") + \"_\" + awayTeams[i].contents[0].replace(\" \", \"\")] = {\n",
    "                \"homeTeam\":homeTeams[i].contents[0],\n",
    "                \"awayTeam\":awayTeams[i].contents[0],\n",
    "                \"homeGoals\":int(scores[i].contents[0].split(\"-\")[0]),\n",
    "                \"awayGoals\":int(scores[i].contents[0].split(\"-\")[1]),\n",
    "                \"link\":gamesStatsLinks[i]\n",
    "            }\n",
    "\n",
    "        return(season)\n",
    "    \n",
    "    \n",
    "    \n",
    "    def match_stats(self, link):\n",
    "        resultsPage = urllib.urlopen(link)\n",
    "        resultsPageSoup = BeautifulSoup(resultsPage)\n",
    "\n",
    "        #overall statistics\n",
    "        match_stats = {}\n",
    "        possession = resultsPageSoup.findAll('div', {'id':'summary_possessions'})[0].findAll('svg', {'class': 'doughnut_chart'})[0].text\n",
    "        match_stats['home_possession'] = float(possession.split('%')[0])\n",
    "        match_stats['away_possession'] = float(possession.split('%')[1])\n",
    "\n",
    "\n",
    "        match_stats['home_pass_cmplt'] = int(resultsPageSoup.findAll('div', {'id':'summary_passes'})[0].findAll('text', {'fill': \"#FCD800\"})[0].next)\n",
    "        match_stats['away_pass_cmplt'] = int(resultsPageSoup.findAll('div', {'id':'summary_passes'})[0].findAll('text', {'fill': \"#E6E6E6\"})[0].next)\n",
    "\n",
    "        match_stats['home_crnr'] = int(resultsPageSoup.findAll('div', {'id':'summary_corners'})[0].findAll('text', {'fill': \"#FCD800\"})[0].next)\n",
    "        match_stats['away_crnr'] = int(resultsPageSoup.findAll('div', {'id':'summary_corners'})[0].findAll('text', {'fill': \"#E6E6E6\"})[0].next)\n",
    "\n",
    "        match_stats['home_attck_pass'] = int(resultsPageSoup.findAll('div', {'id':'summary_attacking'})[0].findAll('text', {'fill': \"#FCD800\"})[0].next)\n",
    "        match_stats['away_attck_pass']= int(resultsPageSoup.findAll('div', {'id':'summary_attacking'})[0].findAll('text', {'fill': \"#E6E6E6\"})[0].next)\n",
    "\n",
    "        match_stats['home_shots'] = int(resultsPageSoup.findAll('div', {'id':'summary_shots'})[0].findAll('text', {'fill': \"#FCD800\"})[0].next)\n",
    "        match_stats['away_shots'] = int(resultsPageSoup.findAll('div', {'id':'summary_shots'})[0].findAll('text', {'fill': \"#E6E6E6\"})[0].next)\n",
    "\n",
    "        match_stats['home_fouls'] = int(resultsPageSoup.findAll('div', {'id':'summary_fouls'})[0].findAll('text', {'fill': \"#FCD800\"})[0].next)\n",
    "        match_stats['away_fouls'] = int(resultsPageSoup.findAll('div', {'id':'summary_fouls'})[0].findAll('text', {'fill': \"#E6E6E6\"})[0].next)\n",
    "\n",
    "        match_stats['date_location'] = resultsPageSoup.findAll('div', {'class': 'teams'})[0].next.strip()\n",
    "\n",
    "        match_stats['date'] = match_stats['date_location'].split(',')[-2]\n",
    "        match_stats['time'] = match_stats['date_location'].split('-')[-1]\n",
    "        return(match_stats)\n",
    "\n",
    "\n",
    "    def player_links(self, game_link):\n",
    "        url = game_link + '/player-stats#tabs-wrapper-anchor'\n",
    "        r = Render(url)\n",
    "        result = r.frame.toHtml()\n",
    "        formatted_result = str(result.toAscii())\n",
    "        soup = BeautifulSoup(formatted_result, 'html5')\n",
    "        player_urls = ['http://www.fourfourtwo.com' + a['href'] \n",
    "                   for a in soup.findAll('div', {'id':'lineups'})[0].findAll('a')]\n",
    "        player_names = [a.contents\n",
    "                   for a in soup.findAll('div', {'id':'lineups'})[0].findAll('a')]\n",
    "\n",
    "        players = {}\n",
    "        for i in range(len(player_names)):\n",
    "            players[player_names[i][0]] = {\"link\":player_urls[i] }\n",
    "\n",
    "        return(players)\n",
    "\n",
    "    \n",
    "    def player_stats(self, url):\n",
    "        #\n",
    "        playerPage = Render(url)\n",
    "        playerPageRendered = playerPage.frame.toHtml()\n",
    "        playerPageFormatted = str(playerPageRendered.toAscii())\n",
    "        playerSoup = BeautifulSoup(playerPageFormatted, 'html5')\n",
    "\n",
    "        match_stats = {}\n",
    "        #passes\n",
    "        match_stats['pass_success'] = len(playerSoup.findAll('line', {'marker-end': 'url(#smallblue)'}))\n",
    "        match_stats['pass_fail'] = len(playerSoup.findAll('line', {'marker-end': 'url(#smallred)'}))\n",
    "        match_stats['chances'] = len(playerSoup.findAll('line', {'marker-end': 'url(#smalldeepskyblue)'}))\n",
    "        match_stats['assists'] = len(playerSoup.findAll('line', {'marker-end': 'url(#smallyellow)'}))\n",
    "\n",
    "        #shots\n",
    "        match_stats['on_target'] = len(playerSoup.findAll('line', {'marker-end': 'url(#bigblueend)'}))\n",
    "        match_stats['off_target'] = len(playerSoup.findAll('line', {'marker-end': 'url(#bigredend)'}))\n",
    "        match_stats['on_target'] = len(playerSoup.findAll('line', {'marker-end': 'url(#bigblueend)'}))\n",
    "        match_stats['goals'] = len(playerSoup.findAll('line', {'marker-start': 'url(#bigyellowend)'}))\n",
    "\n",
    "        #takeons\n",
    "        match_stats['takeon_success'] = len(playerSoup.findAll('image', {'href': '/sites/fourfourtwo.com/modules/custom/statzone/files/icons/success.png'}))\n",
    "        match_stats['takeon_fail'] = len(playerSoup.findAll('image', {'href': '/sites/fourfourtwo.com/modules/custom/statzone/files/icons/fail.png'}))\n",
    "\n",
    "        #defensive\n",
    "        match_stats['fail_tkl'] = len(playerSoup.findAll('image', {'href': '/sites/fourfourtwo.com/modules/custom/statzone/files/icons/failed_tackle.png'}))\n",
    "        match_stats['success_tkl'] = len(playerSoup.findAll('image', {'href': '/sites/fourfourtwo.com/modules/custom/statzone/files/icons/successful_tackle.png'}))\n",
    "        match_stats['success_clearence'] = len(playerSoup.findAll('image', {'href': '/sites/fourfourtwo.com/modules/custom/statzone/files/icons/successful_clearence.png'}))\n",
    "        match_stats['failed_clearence'] = len(playerSoup.findAll('image', {'href': '/sites/fourfourtwo.com/modules/custom/statzone/files/icons/failed_clearence.png'}))\n",
    "        match_stats['interception'] = len(playerSoup.findAll('image', {'href': '/sites/fourfourtwo.com/modules/custom/statzone/files/icons/interceptions.png'}))\n",
    "        match_stats['ball_recovery'] = len(playerSoup.findAll('image', {'href': '/sites/fourfourtwo.com/modules/custom/statzone/files/icons/defensive-ball-clearence.png'}))\n",
    "        match_stats['blocks'] = len(playerSoup.findAll('image', {'href': '/sites/fourfourtwo.com/modules/custom/statzone/files/icons/blocks.png'}))\n",
    "        match_stats['blocks_cross'] = len(playerSoup.findAll('image', {'href': '/sites/fourfourtwo.com/modules/custom/statzone/files/icons/blocks-cross.png'}))\n",
    "\n",
    "        #aerial\n",
    "        match_stats['aerial_won'] = len(playerSoup.findAll('image', {'href': '/sites/fourfourtwo.com/modules/custom/statzone/files/icons/won.png'}))\n",
    "        match_stats['aerial_lost'] = len(playerSoup.findAll('image', {'href': '/sites/fourfourtwo.com/modules/custom/statzone/files/icons/lost.png'}))\n",
    "\n",
    "        #fouls\n",
    "        match_stats['foul_cmt'] = len(playerSoup.findAll('image', {'href': '/sites/fourfourtwo.com/modules/custom/statzone/files/icons/commited.png'}))\n",
    "        match_stats['foul_sfr'] = len(playerSoup.findAll('image', {'href': '/sites/fourfourtwo.com/modules/custom/statzone/files/icons/suffered.png'}))\n",
    "\n",
    "        #errors\n",
    "        match_stats['error_goal'] = len(playerSoup.findAll('image', {'href': '/sites/fourfourtwo.com/modules/custom/statzone/files/icons/error-leading-goal.png'}))\n",
    "        match_stats['error_shot'] = len(playerSoup.findAll('image', {'href': '/sites/fourfourtwo.com/modules/custom/statzone/files/icons/error-leading-shot.png'}))\n",
    "\n",
    "        return(match_stats)\n",
    "\n",
    "    \n",
    "        "
   ]
  },
  {
   "cell_type": "code",
   "execution_count": null,
   "metadata": {
    "collapsed": false
   },
   "outputs": [
    {
     "name": "stdout",
     "output_type": "stream",
     "text": [
      "2015\n"
     ]
    },
    {
     "name": "stderr",
     "output_type": "stream",
     "text": [
      "/home/lucas/anaconda2/envs/football/lib/python2.7/site-packages/bs4/__init__.py:181: UserWarning: No parser was explicitly specified, so I'm using the best available HTML parser for this system (\"lxml\"). This usually isn't a problem, but if you run this code on another system, or in a different virtual environment, it may use a different parser and behave differently.\n",
      "\n",
      "The code that caused this warning is on line 174 of the file /home/lucas/anaconda2/envs/football/lib/python2.7/runpy.py. To get rid of this warning, change code that looks like this:\n",
      "\n",
      " BeautifulSoup([your markup])\n",
      "\n",
      "to this:\n",
      "\n",
      " BeautifulSoup([your markup], \"lxml\")\n",
      "\n",
      "  markup_type=markup_type))\n"
     ]
    },
    {
     "name": "stdout",
     "output_type": "stream",
     "text": [
      "ManchesterCity_ManchesterUnited\n"
     ]
    },
    {
     "name": "stderr",
     "output_type": "stream",
     "text": [
      "/home/lucas/anaconda2/envs/football/lib/python2.7/site-packages/bs4/__init__.py:181: UserWarning: No parser was explicitly specified, so I'm using the best available HTML parser for this system (\"html5lib\"). This usually isn't a problem, but if you run this code on another system, or in a different virtual environment, it may use a different parser and behave differently.\n",
      "\n",
      "The code that caused this warning is on line 174 of the file /home/lucas/anaconda2/envs/football/lib/python2.7/runpy.py. To get rid of this warning, change code that looks like this:\n",
      "\n",
      " BeautifulSoup([your markup])\n",
      "\n",
      "to this:\n",
      "\n",
      " BeautifulSoup([your markup], \"html5lib\")\n",
      "\n",
      "  markup_type=markup_type))\n"
     ]
    }
   ],
   "source": [
    "SeasonData('2015')"
   ]
  },
  {
   "cell_type": "code",
   "execution_count": null,
   "metadata": {
    "collapsed": true
   },
   "outputs": [],
   "source": []
  }
 ],
 "metadata": {
  "anaconda-cloud": {},
  "kernelspec": {
   "display_name": "Python [conda env:football]",
   "language": "python",
   "name": "conda-env-football-py"
  },
  "language_info": {
   "codemirror_mode": {
    "name": "ipython",
    "version": 2
   },
   "file_extension": ".py",
   "mimetype": "text/x-python",
   "name": "python",
   "nbconvert_exporter": "python",
   "pygments_lexer": "ipython2",
   "version": "2.7.13"
  }
 },
 "nbformat": 4,
 "nbformat_minor": 2
}
